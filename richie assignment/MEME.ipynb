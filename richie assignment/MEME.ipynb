{
 "cells": [
  {
   "cell_type": "markdown",
   "id": "9f9099b8",
   "metadata": {},
   "source": [
    "REG:    P102/1427G/20"
   ]
  },
  {
   "cell_type": "raw",
   "id": "dd4083fa",
   "metadata": {},
   "source": [
    "NAME: RICHARD MUIA"
   ]
  },
  {
   "cell_type": "markdown",
   "id": "e05a0ebf",
   "metadata": {},
   "source": [
    "TASK: COM 404 ASSIGNMENT"
   ]
  },
  {
   "cell_type": "markdown",
   "id": "c7c00ef9",
   "metadata": {},
   "source": [
    "# LIST"
   ]
  },
  {
   "cell_type": "code",
   "execution_count": null,
   "id": "39ff07cf",
   "metadata": {},
   "outputs": [],
   "source": [
    "# A fruit list\n",
    "fruits = [\"apple\", \"banana\", \"orange\", \"pear\", \"kiwi\"]\n",
    "\n",
    "# Print the fruit list\n",
    "print(fruits)\n",
    "\n",
    "# Access an element in the fruit list by its index\n",
    "print(fruits[0]) # prints \"apple\"\n",
    "print(fruits[2]) # prints \"orange\"\n",
    "\n",
    "# Add an element to the end of the fruit list\n",
    "fruits.append(\"watermelon\")\n",
    "print(fruits)\n",
    "\n",
    "# Remove an element from the fruit list by its value\n",
    "fruits.remove(\"banana\")\n",
    "print(fruits)\n",
    "\n",
    "# Check if an element is present in the fruit list\n",
    "is_mango_present = \"mango\" in fruits\n",
    "print(is_mango_present) # prints False\n",
    "\n",
    "# Get the length of the fruit list\n",
    "list_length = len(fruits)\n",
    "print(list_length) # prints 4\n",
    "\n",
    "# Iterate over the fruit list and print each element\n",
    "for fruit in fruits:\n",
    "  print(fruit)\n",
    "\n",
    "# Sort the fruit list in alphabetical order\n",
    "fruits.sort()\n",
    "print(fruits)\n"
   ]
  },
  {
   "cell_type": "markdown",
   "id": "e9701afc",
   "metadata": {},
   "source": [
    "# tuple"
   ]
  },
  {
   "cell_type": "code",
   "execution_count": null,
   "id": "4cd0226f",
   "metadata": {},
   "outputs": [],
   "source": [
    "# A fruit tuple\n",
    "fruits = (\"apple\", \"banana\", \"orange\", \"pear\", \"kiwi\")\n",
    "\n",
    "# Print the fruit tuple\n",
    "print(fruits)\n",
    "\n",
    "# Access an element in the fruit tuple by its index\n",
    "print(fruits[0]) # prints \"apple\"\n",
    "print(fruits[2]) # prints \"orange\"\n",
    "\n",
    "\n",
    "# Check if an element is present in the fruit tuple\n",
    "is_mango_present = \"mango\" in fruits\n",
    "print(is_mango_present) # prints False\n",
    "\n",
    "# Get the length of the fruit tuple\n",
    "tuple_length = len(fruits)\n",
    "print(tuple_length) # prints 5\n",
    "\n",
    "# Iterate over the fruit tuple and print each element\n",
    "for fruit in fruits:\n",
    "  print(fruit)\n",
    "\n",
    "# Convert the fruit tuple to a list\n",
    "fruit_list = list(fruits)\n",
    "\n",
    "# Sort the fruit list in alphabetical order\n",
    "fruit_list.sort()\n",
    "\n",
    "# Print the sorted fruit list\n",
    "print(fruit_list)\n"
   ]
  },
  {
   "cell_type": "markdown",
   "id": "b94021cf",
   "metadata": {},
   "source": [
    "# sets"
   ]
  },
  {
   "cell_type": "code",
   "execution_count": null,
   "id": "92bddbab",
   "metadata": {},
   "outputs": [],
   "source": [
    "# An animal tuple\n",
    "animals = (\"dog\", \"cat\", \"mouse\", \"bird\", \"fish\")\n",
    "\n",
    "# Print the animal tuple\n",
    "print(animals)\n",
    "\n",
    "# Access an element in the animal tuple by its index\n",
    "print(animals[0]) # prints \"dog\"\n",
    "print(animals[2]) # prints \"mouse\"\n",
    "\n",
    "# Try to modify an element in the animal tuple\n",
    "# animals[0] = \"lion\" # This will generate an error\n",
    "\n",
    "# Check if an element is present in the animal tuple\n",
    "is_lion_present = \"lion\" in animals\n",
    "print(is_lion_present) # prints False\n",
    "\n",
    "# Get the length of the animal tuple\n",
    "tuple_length = len(animals)\n",
    "print(tuple_length) # prints 5\n",
    "\n",
    "# Iterate over the animal tuple and print each element\n",
    "for animal in animals:\n",
    "  print(animal)\n"
   ]
  },
  {
   "cell_type": "markdown",
   "id": "be8ee998",
   "metadata": {},
   "source": [
    "# dictionaries"
   ]
  },
  {
   "cell_type": "code",
   "execution_count": null,
   "id": "88de89fc",
   "metadata": {},
   "outputs": [],
   "source": [
    "# An animal dictionary\n",
    "animals = {\n",
    "    \"dog\": {\n",
    "        \"species\": \"Canis familiaris\",\n",
    "        \"habitat\": \"Domesticated\",\n",
    "        \"diet\": \"Omnivore\"\n",
    "    },\n",
    "    \"cat\": {\n",
    "        \"species\": \"Felis catus\",\n",
    "        \"habitat\": \"Domesticated and wild\",\n",
    "        \"diet\": \"Carnivore\"\n",
    "    },\n",
    "    \"mouse\": {\n",
    "        \"species\": \"Mus musculus\",\n",
    "        \"habitat\": \"Wild and human dwellings\",\n",
    "        \"diet\": \"Omnivore\"\n",
    "    },\n",
    "    \"bird\": {\n",
    "        \"species\": \"Aves\",\n",
    "        \"habitat\": \"Air and land\",\n",
    "        \"diet\": \"Varies depending on species\"\n",
    "    },\n",
    "    \"fish\": {\n",
    "        \"species\": \"Pisces\",\n",
    "        \"habitat\": \"Water\",\n",
    "        \"diet\": \"Varies depending on species\"\n",
    "    }\n",
    "}\n",
    "\n",
    "# Print the animal dictionary\n",
    "print(animals)\n",
    "\n",
    "# Access an element in the animal dictionary by its key\n",
    "print(animals[\"dog\"][\"species\"]) # prints \"Canis familiaris\"\n",
    "print(animals[\"cat\"][\"habitat\"]) # prints \"Domesticated and wild\"\n",
    "\n",
    "# Add a new key-value pair to the animal dictionary\n",
    "animals[\"lion\"] = {\n",
    "    \"species\": \"Panthera leo\",\n",
    "    \"habitat\": \"Wild\",\n",
    "    \"diet\": \"Carnivore\"\n",
    "}\n",
    "\n",
    "# Print the updated animal dictionary\n",
    "print(animals)\n",
    "\n",
    "# Remove a key-value pair from the animal dictionary\n",
    "animals.pop(\"mouse\")\n",
    "\n",
    "# Print the updated animal dictionary\n",
    "print(animals)\n",
    "\n",
    "# Check if a key exists in the animal dictionary\n",
    "is_lion_present = \"lion\" in animals\n",
    "print(is_lion_present) # prints True\n",
    "\n",
    "# Get the length of the animal dictionary\n",
    "dict_length = len(animals)\n",
    "print(dict_length) # prints 4\n",
    "\n",
    "# Iterate over the animal dictionary and print each key-value pair\n",
    "for animal in animals:\n",
    "  print(animal)\n",
    "  print(animals[animal])\n",
    "\n",
    "# Clear the animal dictionary\n",
    "animals.clear()\n",
    "\n",
    "# Print the cleared animal dictionary\n",
    "print(animals)\n"
   ]
  }
 ],
 "metadata": {
  "kernelspec": {
   "display_name": "Python 3 (ipykernel)",
   "language": "python",
   "name": "python3"
  },
  "language_info": {
   "codemirror_mode": {
    "name": "ipython",
    "version": 3
   },
   "file_extension": ".py",
   "mimetype": "text/x-python",
   "name": "python",
   "nbconvert_exporter": "python",
   "pygments_lexer": "ipython3",
   "version": "3.9.12"
  }
 },
 "nbformat": 4,
 "nbformat_minor": 5
}
