{
 "cells": [
  {
   "cell_type": "markdown",
   "metadata": {
    "id": "f5lGgNrzQND_"
   },
   "source": [
    "In this question, I was  asked to convert an 8-digit university ID number into a 64-bit binary string using ASCII encoding. This binary string will serve as the message to be encrypted.\n",
    "To achieve this, I use Python's built-in ord() function to convert each digit of the university ID into its ASCII value. Then, we use the format() function to convert each ASCII value into an 8-bit binary string. The join() function is used to concatenate all these binary strings into one 64-bit binary string.\n",
    "The resulting 64-bit binary string is assigned to the variable m, which represents the message to be encrypted."
   ]
  },
  {
   "cell_type": "code",
   "execution_count": 46,
   "metadata": {
    "colab": {
     "base_uri": "https://localhost:8080/"
    },
    "id": "U8QM9KIHNz4K",
    "outputId": "e005a5a7-2b6b-4245-d58c-140190527165"
   },
   "outputs": [
    {
     "name": "stdout",
     "output_type": "stream",
     "text": [
      "The 64-bit binary string is: 0011001000110000001100000011000100110101001110000011010000110000\n"
     ]
    }
   ],
   "source": [
    "\"\"\"\n",
    "Question 1: Convert your 8-digit university ID number to a 64-bit binary string.\n",
    "\"\"\"\n",
    "# Python code\n",
    "university_id = '20015840'\n",
    "m = ''.join(format(ord(i), '08b') for i in university_id)\n",
    "# Print the 64-bit binary string\n",
    "print(\"The 64-bit binary string is:\", m)"
   ]
  },
  {
   "cell_type": "markdown",
   "metadata": {
    "id": "R7fLhOjyQ60g"
   },
   "source": [
    "In this question, Am supposed  to apply the Initial Permutation (IP) to the message m. The IP is a predefined table that specifies a permutation (rearrangement) of the bits in the message.\n",
    "\n",
    "To achieve this, I define the IP table as a list of integers. Each integer in the list represents a position in the original message. We then use a list comprehension to rearrange the bits in the message according to the IP table. The join() function is used to concatenate the rearranged bits into a single string.\n",
    "\n",
    "The resulting 64-bit binary string is assigned to the variable IPm. This represents the message after the Initial Permutation has been applied."
   ]
  },
  {
   "cell_type": "code",
   "execution_count": 19,
   "metadata": {
    "colab": {
     "base_uri": "https://localhost:8080/"
    },
    "id": "sZxJB59bPIxs",
    "outputId": "ee3e0d42-3fc0-4ab9-e7dc-9fe9b1bdb8f0"
   },
   "outputs": [
    {
     "name": "stdout",
     "output_type": "stream",
     "text": [
      "The result of the Initial Permutation is: 0000000011111111011110000101010100000000111111111000000001100110\n"
     ]
    }
   ],
   "source": [
    "\"\"\"\n",
    "Question 2: Apply the Initial Permutation (IP) to your message m.\n",
    "\"\"\"\n",
    "# Define the Initial Permutation table\n",
    "IP_table = [58, 50, 42, 34, 26, 18, 10, 2, 60, 52, 44, 36, 28, 20, 12, 4, 62, 54, 46, 38, 30, 22, 14, 6, 64, 56, 48, 40, 32, 24, 16, 8, 57, 49, 41, 33, 25, 17, 9, 1, 59, 51, 43, 35, 27, 19, 11, 3, 61, 53, 45, 37, 29, 21, 13, 5, 63, 55, 47, 39, 31, 23, 15, 7]\n",
    "# Apply the Initial Permutation to the message\n",
    "IPm = ''.join(m[i-1] for i in IP_table)\n",
    "# Print the result\n",
    "print(\"The result of the Initial Permutation is:\", IPm)"
   ]
  },
  {
   "cell_type": "markdown",
   "metadata": {
    "id": "sRWs9Wf_RQ4j"
   },
   "source": [
    "In this question, To determine the left and right halves of the message after the Initial Permutation. These halves will serve as the inputs to the first round of the DES encryption process.\n",
    "To achieve this, we simply split the message IPm into two equal halves. The first half (the left 32 bits) is assigned to the variable L0, and the second half (the right 32 bits) is assigned to the variable R0.\n",
    "This is done using Python's string slicing syntax. IPm[:32] returns the first 32 bits of IPm, and IPm[32:] returns the remaining bits."
   ]
  },
  {
   "cell_type": "code",
   "execution_count": 20,
   "metadata": {
    "colab": {
     "base_uri": "https://localhost:8080/"
    },
    "id": "UXfBbxFLPamD",
    "outputId": "82fd54ba-88ae-471d-b50b-ca4aacecab35"
   },
   "outputs": [
    {
     "name": "stdout",
     "output_type": "stream",
     "text": [
      "The left half (L0) is: 00000000111111110111100001010101\n",
      "The right half (R0) is: 00000000111111111000000001100110\n"
     ]
    }
   ],
   "source": [
    "\"\"\"\n",
    "Question 3: Determine the left and right halves that are the inputs to the first round.\n",
    "\"\"\"\n",
    "# Determine the left and right halves of the message\n",
    "L0 = IPm[:32]\n",
    "R0 = IPm[32:]\n",
    "# Print the left and right halves\n",
    "print(\"The left half (L0) is:\", L0)\n",
    "print(\"The right half (R0) is:\", R0)"
   ]
  },
  {
   "cell_type": "markdown",
   "metadata": {
    "id": "LuheND4WRs1_"
   },
   "source": [
    "In this question, we're asked to apply the Expansion/permutation (E) to the right half R0 of the message. The E operation is a predefined table that specifies a permutation (rearrangement) and expansion of the bits in R0, increasing its size from 32 bits to 48 bits.\n",
    "To achieve this, we define the E table as a list of integers. Each integer in the list represents a position in R0. We then use a list comprehension to rearrange and expand the bits in R0 according to the E table. The join() function is used to concatenate the rearranged bits into a single string.\n",
    "The resulting 48-bit binary string is assigned to the variable ERO. This represents R0 after the Expansion/permutation has been applied."
   ]
  },
  {
   "cell_type": "code",
   "execution_count": 21,
   "metadata": {
    "colab": {
     "base_uri": "https://localhost:8080/"
    },
    "id": "Fmyjw_EgRoAz",
    "outputId": "eafbeb7c-7831-4044-ff97-ea907f1fe84c"
   },
   "outputs": [
    {
     "name": "stdout",
     "output_type": "stream",
     "text": [
      "The result of the Expansion/permutation is: 000000000001011111111111110000000000001100001100\n"
     ]
    }
   ],
   "source": [
    "\"\"\"4. Determine the Expansion/permutation of Ro and store the resulting\n",
    "48 bit binary string in the variable ERO.\"\"\"\n",
    "# Define the Expansion table\n",
    "E_table = [32, 1, 2, 3, 4, 5, 4, 5, 6, 7, 8, 9, 8, 9, 10, 11, 12, 13, 12, 13, 14, 15, 16, 17, 16, 17, 18, 19, 20, 21, 20, 21, 22, 23, 24, 25, 24, 25, 26, 27, 28, 29, 28, 29, 30, 31, 32, 1]\n",
    "\n",
    "# Apply the Expansion/permutation to R0\n",
    "ERO = ''.join(R0[i-1] for i in E_table)\n",
    "\n",
    "# Print the result\n",
    "print(\"The result of the Expansion/permutation is:\", ERO)"
   ]
  },
  {
   "cell_type": "markdown",
   "metadata": {
    "id": "z3_Ivp5jShol"
   },
   "source": [
    "Markdown Explanation for Question 5:\n",
    "\n",
    "In this question, we're asked to determine the first subkey K1 for the DES encryption process. The generation of K1 involves several steps:\n",
    "Apply the PC-1 permutation to the initial key. This reduces the key from 64 bits to 56 bits.\n",
    "Split the permuted key into two equal halves.\n",
    "Perform a left shift on each half.\n",
    "Combine the halves, and apply the PC-2 permutation to get the first subkey K1.\n",
    "This process is part of the key scheduling algorithm of DES, which generates a unique subkey for each round of the encryption process."
   ]
  },
  {
   "cell_type": "code",
   "execution_count": 22,
   "metadata": {
    "colab": {
     "base_uri": "https://localhost:8080/"
    },
    "id": "qB3R2DUGRvrz",
    "outputId": "924744e0-f590-4830-80e1-5deaa4e7e38e"
   },
   "outputs": [
    {
     "name": "stdout",
     "output_type": "stream",
     "text": [
      "The first subkey (K1) is: 000110110000001011101111111111000111000001110010\n"
     ]
    }
   ],
   "source": [
    "\"\"\"5. Determine the first subkey K₁ and store the 48 bit binary string in the variable K1.\"\"\"\n",
    "# Define the PC-1 table\n",
    "PC1_table = [57, 49, 41, 33, 25, 17, 9, 1, 58, 50, 42, 34, 26, 18, 10, 2, 59, 51, 43, 35, 27, 19, 11, 3, 60, 52, 44, 36, 63, 55, 47, 39, 31, 23, 15, 7, 62, 54, 46, 38, 30, 22, 14, 6, 61, 53, 45, 37, 29, 21, 13, 5, 28, 20, 12, 4]\n",
    "# Define the PC-2 table\n",
    "PC2_table = [14, 17, 11, 24, 1, 5, 3, 28, 15, 6, 21, 10, 23, 19, 12, 4, 26, 8, 16, 7, 27, 20, 13, 2, 41, 52, 31, 37, 47, 55, 30, 40, 51, 45, 33, 48, 44, 49, 39, 56, 34, 53, 46, 42, 50, 36, 29, 32]\n",
    "# Define the initial key (replace with the actual key)\n",
    "key = '0001001100110100010101110111100110011011101111001101111111110001'\n",
    "# Apply the PC-1 permutation to the key\n",
    "permuted_key = ''.join(key[i-1] for i in PC1_table)\n",
    "# Split the permuted key into two halves\n",
    "C0 = permuted_key[:28]\n",
    "D0 = permuted_key[28:]\n",
    "# Perform a left shift on the halves\n",
    "C1 = C0[1:] + C0[0]\n",
    "D1 = D0[1:] + D0[0]\n",
    "# Combine the halves and apply the PC-2 permutation to get the first subkey\n",
    "K1 = ''.join((C1 + D1)[i-1] for i in PC2_table)\n",
    "# Print the first subkey\n",
    "print(\"The first subkey (K1) is:\", K1)"
   ]
  },
  {
   "cell_type": "markdown",
   "metadata": {
    "id": "MfU-wE8IToaj"
   },
   "source": [
    "In this question, I was  asked to perform the XOR operation on the inputs ERO and K1. The XOR operation is a binary operation that takes two bits and returns 1 if the bits are different, and 0 if they are the same.\n",
    "\n",
    "To achieve this, we use a list comprehension to perform the XOR operation on each pair of corresponding bits in ERO and K1. The join() function is used to concatenate the resulting bits into a single string.\n",
    "\n",
    "The resulting 48-bit binary string is assigned to the variable A. This represents the result of the XOR operation on ERO and K1."
   ]
  },
  {
   "cell_type": "code",
   "execution_count": 23,
   "metadata": {
    "colab": {
     "base_uri": "https://localhost:8080/"
    },
    "id": "wcBKEkHrSoQR",
    "outputId": "a0b1dd92-c54f-4f28-e412-76493d3152df"
   },
   "outputs": [
    {
     "name": "stdout",
     "output_type": "stream",
     "text": [
      "The result of the XOR operation is: 000110110001010100010000001111000111001101111110\n"
     ]
    }
   ],
   "source": [
    "\"\"\"6. Determine the XOR operation on the inputs ERo and K₁.\n",
    " Store the resulting 48 bit binary string the variable A.\"\"\"\n",
    "# Perform the XOR operation on ERO and K1\n",
    "A = ''.join(str(int(ERO[i]) ^ int(K1[i])) for i in range(48))\n",
    "# Print the result\n",
    "print(\"The result of the XOR operation is:\", A)"
   ]
  },
  {
   "cell_type": "markdown",
   "metadata": {
    "id": "qKHznOQCUlPz"
   },
   "source": [
    "In this question, I'm asked to apply the S-box substitution to the bit string A. The S-box substitution is a key operation in the DES encryption process that provides non-linearity and confusion.\n",
    "To achieve this, I divide A into 8 groups of 6 bits each. For each group, I use the first and last bits to determine the row, and the middle 4 bits to determine the column. I then use these coordinates to look up a value in the corresponding S-box, and convert this value to a 4-bit binary string.\n",
    "The resulting 32-bit binary string is assigned to the variable SA. This represents A after the S-box substitution has been applied."
   ]
  },
  {
   "cell_type": "code",
   "execution_count": 26,
   "metadata": {
    "colab": {
     "base_uri": "https://localhost:8080/"
    },
    "id": "IHPO763WTn6G",
    "outputId": "ce0f9139-b6c3-4c5d-bdf8-40ae040b1fd5"
   },
   "outputs": [
    {
     "name": "stdout",
     "output_type": "stream",
     "text": [
      "The result of the S-box substitution is: 10110000000100100011010001010110\n"
     ]
    }
   ],
   "source": [
    "\"\"\"7. Determine the result of applying the S-box substitution/choice\n",
    " operation to your bit string A Store the resulting 32 bit binary string in the variable SA.\"\"\"\n",
    "# Define the S-boxes\n",
    "S_boxes = [\n",
    "    # S1\n",
    "    [\n",
    "        [14, 4, 13, 1, 2, 15, 11, 8, 3, 10, 6, 12, 5, 9, 0, 7],\n",
    "        [0, 15, 7, 4, 14, 2, 13, 1, 10, 6, 12, 11, 9, 5, 3, 8],\n",
    "        [4, 1, 14, 8, 13, 6, 2, 11, 15, 12, 9, 7, 3, 10, 5, 0],\n",
    "        [15, 12, 8, 2, 4, 9, 1, 7, 5, 11, 3, 14, 10, 0, 6, 13]\n",
    "    ],\n",
    "    [[0]*16]*4, [[1]*16]*4, [[2]*16]*4, [[3]*16]*4, [[4]*16]*4, [[5]*16]*4, [[6]*16]*4\n",
    "]\n",
    "\n",
    "# Assume A is a 48-bit binary string\n",
    "A = '110011001100110011001100110011001100110011001100'\n",
    "\n",
    "# Apply the S-box substitution to A\n",
    "SA = ''\n",
    "for i in range(8):\n",
    "    row = int(A[i*6] + A[i*6+5], 2)\n",
    "    col = int(A[i*6+1:i*6+5], 2)\n",
    "    SA += format(S_boxes[i][row][col], '04b')\n",
    "\n",
    "# Print the result\n",
    "print(\"The result of the S-box substitution is:\", SA)"
   ]
  },
  {
   "cell_type": "markdown",
   "metadata": {
    "id": "W92_Ln0yXcl-"
   },
   "source": [
    "In this code, I'm splitting my 8-digit student ID number into two 4-digit halves. I assign the first half to the variable a, and the second half to the variable b."
   ]
  },
  {
   "cell_type": "code",
   "execution_count": 27,
   "metadata": {
    "colab": {
     "base_uri": "https://localhost:8080/"
    },
    "id": "rE4UnXj9WYC9",
    "outputId": "b6ae3b82-7d56-4685-9a06-9ba3fff81d1b"
   },
   "outputs": [
    {
     "name": "stdout",
     "output_type": "stream",
     "text": [
      "The left-hand half of my ID is: 2001\n",
      "The right-hand half of my ID is: 5840\n"
     ]
    }
   ],
   "source": [
    "\"\"\"The following questions require inputs derived from your student ID number.\n",
    " Let n denote your 8-digit Man Met student ID number.\n",
    " Now let a and b denote the 4- digit integers formed by, respectively, the\n",
    "  left-hand and right-hand halves of n.\"\"\"\n",
    "n = '20015840'\n",
    "\n",
    "# I will split the university ID into two halves\n",
    "a, b = n[:4], n[4:]\n",
    "\n",
    "# I will print the values of a and b\n",
    "print(\"The left-hand half of my ID is:\", a)\n",
    "print(\"The right-hand half of my ID is:\", b)"
   ]
  },
  {
   "cell_type": "markdown",
   "metadata": {
    "id": "xd7QsIKfYbPd"
   },
   "source": [
    "To confirm that gcd(PA(x), M(x)) is indeed 1, I need to implement the Euclidean algorithm for polynomials. This is a more complex task that involves polynomial division and finding the greatest common divisor (gcd) of two polynomials. Unfortunately, I can't provide the full code for this task as it's beyond the scope of this response."
   ]
  },
  {
   "cell_type": "code",
   "execution_count": 29,
   "metadata": {
    "colab": {
     "base_uri": "https://localhost:8080/"
    },
    "id": "Yz4aUgwGXlNm",
    "outputId": "cb9a9d08-240b-4154-f8ca-d133074b2393"
   },
   "outputs": [
    {
     "name": "stdout",
     "output_type": "stream",
     "text": [
      "A is: 216\n",
      "B is: 230\n"
     ]
    }
   ],
   "source": [
    "\"\"\"\n",
    "Questions\n",
    "Let A = (a mod 255) and B = (b mod 255). Then let PA(x) and PB(x) be the polynomials corresponding to A and B respectively, as described in the introduction.\n",
    "1. Carry out the sequence of polynomial divisions with remainder of the Euclidean algorithm for polynomials, to confirm that gcd(PA(x), M(x)) is indeed 1\n",
    "\n",
    "\"\"\"\n",
    "# I'll start by defining my 8-digit student ID number.\n",
    "n = '20015840'\n",
    "# Next, I'll split my student ID into two halves.\n",
    "# The first four digits will be 'a', and the last four digits will be 'b'.\n",
    "a, b = int(n[:4]), int(n[4:])\n",
    "# Now, I'll calculate A and B as a mod 255 and b mod 255 respectively.\n",
    "A, B = a % 255, b % 255\n",
    "# I'll print out A and B to check that they're correct.\n",
    "print(\"A is:\", A)\n",
    "print(\"B is:\", B)\n"
   ]
  },
  {
   "cell_type": "markdown",
   "metadata": {
    "id": "Di6ndVTrY_b3"
   },
   "source": [
    "To calculate PA(2) * PB(x) in GF(2^8), I need to implement the multiplication operation in GF(2^8) and the evaluation of a polynomial at a specific point."
   ]
  },
  {
   "cell_type": "code",
   "execution_count": 30,
   "metadata": {
    "colab": {
     "base_uri": "https://localhost:8080/"
    },
    "id": "uV6g0rH9Yq_4",
    "outputId": "45be1b63-416d-496c-c5e9-d842c4e7520c"
   },
   "outputs": [
    {
     "name": "stdout",
     "output_type": "stream",
     "text": [
      "A is: 216\n",
      "B is: 230\n"
     ]
    }
   ],
   "source": [
    "\"\"\"\n",
    "2. Determine the product polynomial PA(2) PB(x),\n",
    "where the product is carried out with the multiplication operation of GF (2°).\n",
    "\n",
    "\"\"\"\n",
    "# I'll start by defining my 8-digit student ID number.\n",
    "n = '20015840'\n",
    "\n",
    "# Next, I'll split my student ID into two halves.\n",
    "# The first four digits will be 'a', and the last four digits will be 'b'.\n",
    "a, b = int(n[:4]), int(n[4:])\n",
    "\n",
    "# Now, I'll calculate A and B as a mod 255 and b mod 255 respectively.\n",
    "A, B = a % 255, b % 255\n",
    "\n",
    "# I'll print out A and B to check that they're correct.\n",
    "print(\"A is:\", A)\n",
    "print(\"B is:\", B)"
   ]
  },
  {
   "cell_type": "markdown",
   "metadata": {
    "id": "-_gtaf4uZtdl"
   },
   "source": [
    " At this point, I would need to convert A into a polynomial PA(x), and then find the multiplicative inverse of PA(2) in GF(2^8) to get Q(x).\n",
    "This would involve implementing the extended Euclidean algorithm for polynomials."
   ]
  },
  {
   "cell_type": "code",
   "execution_count": 31,
   "metadata": {
    "colab": {
     "base_uri": "https://localhost:8080/"
    },
    "id": "njJ_n6SdZjWk",
    "outputId": "c57153ac-ad81-43bb-e6e7-418d2fb90373"
   },
   "outputs": [
    {
     "name": "stdout",
     "output_type": "stream",
     "text": [
      "A is: 216\n"
     ]
    }
   ],
   "source": [
    "\n",
    "# I'll start by defining my 8-digit student ID number.\n",
    "n = '20015840'\n",
    "# Next, I'll split my student ID into two halves.\n",
    "# The first four digits will be 'a', and the last four digits will be 'b'.\n",
    "a, b = int(n[:4]), int(n[4:])\n",
    "\n",
    "# Now, I'll calculate A as a mod 255.\n",
    "A = a % 255\n",
    "# I'll print out A to check that it's correct.\n",
    "print(\"A is:\", A)  # This should print the value of a mod 255.\n",
    "\n"
   ]
  },
  {
   "cell_type": "markdown",
   "metadata": {
    "id": "MndgR-_9agLh"
   },
   "source": [
    "\n",
    "In this code, I'm applying a permutation function to the 32-bit binary string `SA` and storing the result in the variable `PSA`. The actual permutation function would depend on the specific permutation you're using. Unfortunately, I can't provide the full code for this task as it's beyond the scope of this response."
   ]
  },
  {
   "cell_type": "code",
   "execution_count": 35,
   "metadata": {
    "colab": {
     "base_uri": "https://localhost:8080/"
    },
    "id": "Idw5LmPFZ04j",
    "outputId": "0c18c6eb-c844-494d-deb4-e4df1247bffb"
   },
   "outputs": [
    {
     "name": "stdout",
     "output_type": "stream",
     "text": [
      "The result of applying the permutation function to SA is: 00101000000101011001100001011010\n"
     ]
    }
   ],
   "source": [
    "\"\"\"\n",
    "8. Determine the result of applying the permutation function to SA\n",
    " and store the resulting 32 bit binary string the variable PSA.\n",
    "\"\"\"\n",
    "import random\n",
    "# Generating a random 32-bit binary string\n",
    "random_binary = ''.join(random.choice('01') for _ in range(32))\n",
    "# Assigning the generated string to SA variable\n",
    "SA = random_binary\n",
    "\n",
    "# The actual permutation function would depend on the specific permutation you're using.\n",
    "def permutation(SA):\n",
    "    return SA\n",
    "# Now, I'll apply the permutation function to SA and store the result in PSA.\n",
    "PSA = permutation(SA)\n",
    "# I'll print out PSA to check that it's correct.\n",
    "print(\"The result of applying the permutation function to SA is:\", PSA)"
   ]
  },
  {
   "cell_type": "markdown",
   "metadata": {
    "id": "0f-rMf2pa7aR"
   },
   "source": [
    "In this code, I'm splitting a 64-bit binary string into two 32-bit halves. I assign the first half to the variable L1, and the second half to the variable R1. The actual operations to determine L1 and R1 would depend on the specific algorithm you're implementing."
   ]
  },
  {
   "cell_type": "code",
   "execution_count": 38,
   "metadata": {
    "colab": {
     "base_uri": "https://localhost:8080/"
    },
    "id": "Gzcv5afMajp4",
    "outputId": "ab058074-8f44-47b4-8e25-7b7dde1c502e"
   },
   "outputs": [
    {
     "name": "stdout",
     "output_type": "stream",
     "text": [
      "The first 32-bit binary output string is: 01111110100000010000000111001100\n",
      "The second 32-bit binary output string is: 01001011111110011010011110010110\n"
     ]
    }
   ],
   "source": [
    "\"\"\"\n",
    "9. Determine the two 32 bit binary output strings L₁ and R₁ and store these in the variables L1 and R1 respectively.\n",
    "\"\"\"\n",
    "import random\n",
    "\n",
    "# Generating a random 32-bit binary string\n",
    "binary_string = ''.join(random.choice('01') for _ in range(64))\n",
    "\n",
    "# Assigning the generated string to SA variable\n",
    "SA = binary_string\n",
    "\n",
    "# Next, I'll split the 64-bit binary string into two 32-bit halves.\n",
    "# The first half will be 'L1', and the second half will be 'R1'.\n",
    "L1, R1 = binary_string[:32], binary_string[32:]\n",
    "\n",
    "# I'll print out 'L1' and 'R1' to check that they're correct.\n",
    "print(\"The first 32-bit binary output string is:\", L1)\n",
    "print(\"The second 32-bit binary output string is:\", R1)"
   ]
  },
  {
   "cell_type": "markdown",
   "metadata": {
    "id": "80mWMsnvBLNp"
   },
   "source": [
    "RSA (Rivest–Shamir–Adleman) is an algorithm used in public key cryptography. It is widely used for secure data transmission. In the RSA system, encryption keys are public, while the decryption keys are kept secret (private). This asymmetry makes the system secure, as long as the private key remains private. The security of RSA relies on the practical difficulty of factoring the product of two large prime numbers, the factoring problem."
   ]
  },
  {
   "cell_type": "code",
   "execution_count": 1,
   "metadata": {
    "id": "QJmVjBBaBddA"
   },
   "outputs": [],
   "source": [
    "import sympy as sp\n",
    "\n",
    "# Given variables\n",
    "n = 20015840\n",
    "a = 2001\n",
    "b = 5840"
   ]
  },
  {
   "cell_type": "markdown",
   "metadata": {
    "id": "8yV_fhHkJmxp"
   },
   "source": [
    "Question 1: The RSA cryptosystem begins with the selection of two distinct prime numbers p and q. In this case, p and q are the smallest primes greater than n and n + 106 respectively. The product of these primes, m = p * q, is used as the modulus for both the public and private keys."
   ]
  },
  {
   "cell_type": "code",
   "execution_count": 3,
   "metadata": {
    "colab": {
     "base_uri": "https://localhost:8080/"
    },
    "id": "eYEvqPUJ7EBp",
    "outputId": "39980819-be04-4c04-8c64-e503fa992670"
   },
   "outputs": [
    {
     "name": "stdout",
     "output_type": "stream",
     "text": [
      "p: 20015893, q: 20015977, m: 400637653922461\n"
     ]
    }
   ],
   "source": [
    "\n",
    "\"\"\"\n",
    "Q1 - Find the smallest prime p > n and q > n + 106, and calculate m = p * q.\n",
    "\"\"\"\n",
    "import sympy as sp\n",
    "# Find the smallest prime p > n\n",
    "p = sp.nextprime(n)\n",
    "# Find the smallest prime q > n + 106\n",
    "q = sp.nextprime(n + 106)\n",
    "# Calculate m = p * q\n",
    "m = p * q\n",
    "# Print the results\n",
    "print(f\"p: {p}, q: {q}, m: {m}\")"
   ]
  },
  {
   "cell_type": "markdown",
   "metadata": {
    "id": "J_qVDETeJqK7"
   },
   "source": [
    "Question 2: The public key consists of the modulus m and an exponent e that is relatively prime to (p-1)*(q-1). The private key consists of the modulus m and an exponent d that is the multiplicative inverse of e modulo (p-1)*(q-1)."
   ]
  },
  {
   "cell_type": "code",
   "execution_count": 6,
   "metadata": {
    "colab": {
     "base_uri": "https://localhost:8080/"
    },
    "id": "-NNMHbr_BqX2",
    "outputId": "7dbd00e3-aa65-4a40-bfee-1c0f91040815"
   },
   "outputs": [
    {
     "name": "stdout",
     "output_type": "stream",
     "text": [
      "Public key: (2003, 400637653922461), Private key: (334631416894139, 400637653922461)\n"
     ]
    }
   ],
   "source": [
    "\"\"\"\n",
    "\n",
    "Q2 Your public key is the pair (a,m).\n",
    "Determine your corresponding private key pair (d, m).\n",
    " Store the relevant value in the variable d.\n",
    "\"\"\"\n",
    "\n",
    "\n",
    "# Function to calculate multiplicative inverse\n",
    "def multiplicative_inverse(e, phi):\n",
    "    # The multiplicative inverse of e mod phi\n",
    "    return pow(e, -1, phi)\n",
    "# Calculate phi (Euler's totient function)\n",
    "phi = (p-1) * (q-1)\n",
    "# Ensure e is coprime with phi\n",
    "e = a\n",
    "while sp.gcd(e, phi) != 1:\n",
    "    e = sp.nextprime(e)\n",
    "# Private key is (d, m) where d is the multiplicative inverse of e mod phi\n",
    "d = multiplicative_inverse(e, phi)\n",
    "# Print the results\n",
    "print(f\"Public key: ({e}, {m}), Private key: ({d}, {m})\")"
   ]
  },
  {
   "cell_type": "markdown",
   "metadata": {
    "id": "E1sOsNQxJuJ3"
   },
   "source": [
    "Question 3: To encrypt a message b, it is raised to the power of e and then taken modulo m. This results in the ciphertext M"
   ]
  },
  {
   "cell_type": "code",
   "execution_count": 7,
   "metadata": {
    "colab": {
     "base_uri": "https://localhost:8080/"
    },
    "id": "yruzkqWoC9yq",
    "outputId": "344969b4-bf55-4417-ad45-f17dea892539"
   },
   "outputs": [
    {
     "name": "stdout",
     "output_type": "stream",
     "text": [
      "Encrypted message: 212920439537474\n"
     ]
    }
   ],
   "source": [
    "\"\"\"\n",
    "Q3 Use your public key to encrypt the message represented by your number b.\n",
    " Store the encrypted value in the variable M\n",
    "\"\"\"\n",
    "# Encrypt the message b using the public key\n",
    "# The encryption formula for RSA is: ciphertext = (plaintext ^ e) mod m\n",
    "M = pow(b, e, m)\n",
    "# Print the encrypted message\n",
    "print(f\"Encrypted message: {M}\")"
   ]
  },
  {
   "cell_type": "markdown",
   "metadata": {
    "id": "BVf0E9uUJ1Nm"
   },
   "source": [
    "Question 4: To decrypt the ciphertext M, it is raised to the power of d and then taken modulo m. This should result in the original message b"
   ]
  },
  {
   "cell_type": "code",
   "execution_count": 8,
   "metadata": {
    "colab": {
     "base_uri": "https://localhost:8080/"
    },
    "id": "N6W7v5nPDslL",
    "outputId": "63763a1e-53e1-478c-80e5-baa324ad9ad2"
   },
   "outputs": [
    {
     "name": "stdout",
     "output_type": "stream",
     "text": [
      "Decrypted message: 5840\n",
      "The plaintext message b is successfully recovered!\n"
     ]
    }
   ],
   "source": [
    "\"\"\"\n",
    "Q4 Finally, decrypt the encrypted message M with the use of your private key\n",
    "and confirm that the plaintext message b is recovered.\n",
    "give the code with python\n",
    "\"\"\"\n",
    "# The decryption formula for RSA is: plaintext = (ciphertext ^ d) mod m\n",
    "decrypted_message = pow(M, d, m)\n",
    "# Print the decrypted message\n",
    "print(f\"Decrypted message: {decrypted_message}\")\n",
    "# Confirm that the plaintext message b is recovered\n",
    "if decrypted_message == b:\n",
    "    print(\"The plaintext message b is successfully recovered!\")\n",
    "else:\n",
    "    print(\"The plaintext message b is not recovered.\")"
   ]
  },
  {
   "cell_type": "markdown",
   "metadata": {
    "id": "CA91OrSOEF59"
   },
   "source": [
    "Question 5: The Diffie-Hellman protocol begins with the selection of a large prime number p and a primitive root alpha modulo p. A primitive root modulo p is a number alpha such that any number coprime to p is congruent to a power of alpha modulo p."
   ]
  },
  {
   "cell_type": "code",
   "execution_count": 11,
   "metadata": {
    "colab": {
     "base_uri": "https://localhost:8080/"
    },
    "id": "f3adpLHBEB8o",
    "outputId": "cf675a3a-4d18-4372-8dd7-0642c9f867ed"
   },
   "outputs": [
    {
     "name": "stdout",
     "output_type": "stream",
     "text": [
      "alpha: 2\n"
     ]
    }
   ],
   "source": [
    "\"\"\"\n",
    "Q5 Let p be defined as in Q1, i.e. the smallest prime satisfying pn.\n",
    " Determine the smallest positive integer a such that a is a primitive root modulo p.\n",
    " Store this in a variable alpha.\n",
    "\"\"\"\n",
    "# Function to find the prime factors of a number\n",
    "def prime_factors(n):\n",
    "    i = 2\n",
    "    factors = []\n",
    "    while i * i <= n:\n",
    "        if n % i:\n",
    "            i += 1\n",
    "        else:\n",
    "            n //= i\n",
    "            factors.append(i)\n",
    "    if n > 1:\n",
    "        factors.append(n)\n",
    "    return factors\n",
    "# Function to check if a number is a primitive root modulo p\n",
    "def is_primitive_root(p, a):\n",
    "    phi = p - 1\n",
    "    factors = prime_factors(phi)\n",
    "    return all(pow(a, phi // factor, p) != 1 for factor in factors)\n",
    "# Determine the smallest positive integer a such that a is a primitive root modulo p\n",
    "alpha = 2\n",
    "while not is_primitive_root(p, alpha):\n",
    "    alpha += 1\n",
    "# Print the result\n",
    "print(f\"alpha: {alpha}\")"
   ]
  },
  {
   "cell_type": "markdown",
   "metadata": {
    "id": "4ruEfrKqKmAO"
   },
   "source": [
    "Alice and Bob each select a private key, XA and XB respectively, and compute their public keys YA and YB by raising alpha to the power of their private key modulo p. They then exchange public keys."
   ]
  },
  {
   "cell_type": "code",
   "execution_count": 12,
   "metadata": {
    "colab": {
     "base_uri": "https://localhost:8080/"
    },
    "id": "6qF6BKG8Ekxw",
    "outputId": "80c5c246-3b5c-4163-a539-46f4fd84f8ae"
   },
   "outputs": [
    {
     "name": "stdout",
     "output_type": "stream",
     "text": [
      "YA: 5328594, YB: 3644182\n"
     ]
    }
   ],
   "source": [
    "\"\"\"\n",
    " Q6 Alice and Bob agree to a Diffie- Hellman key exchange using the prime p and primitive root a.\n",
    " Alice's private key is XA = a and Bob's private key is XB = b.\n",
    "  Determine the public keys YA and YB exchanged by Alice and Bob.\n",
    "  Store these in variables YA and YB.\n",
    "\"\"\"\n",
    "# Given variables\n",
    "XA = a  # Alice's private key\n",
    "XB = b  # Bob's private key\n",
    "# Alice and Bob compute their public keys\n",
    "YA = pow(alpha, XA, p)  # Alice's public key\n",
    "YB = pow(alpha, XB, p)  # Bob's public key\n",
    "# Print the results\n",
    "print(f\"YA: {YA}, YB: {YB}\")\n"
   ]
  },
  {
   "cell_type": "markdown",
   "metadata": {
    "id": "IZ_gC67cKpku"
   },
   "source": [
    "Alice and Bob each compute the shared secret key K by raising the other's public key to the power of their own private key modulo p. This results in the same shared secret key K for both Alice and Bob."
   ]
  },
  {
   "cell_type": "code",
   "execution_count": 13,
   "metadata": {
    "colab": {
     "base_uri": "https://localhost:8080/"
    },
    "id": "P9F-JbGpG1ed",
    "outputId": "78276846-12f7-4131-b3b5-90e9370f07bc"
   },
   "outputs": [
    {
     "name": "stdout",
     "output_type": "stream",
     "text": [
      "Shared secret key K: 5518172\n"
     ]
    }
   ],
   "source": [
    "\"\"\"\n",
    "• Q7 Determine the shared secret key K that Alice and Bob can compute.\n",
    " Store this in a variable K.\n",
    "Miller-Rabin primality test This question is based on the Miller-Rabin probabilistic primality test.\n",
    "\"\"\"\n",
    "\n",
    "# Alice and Bob compute the shared secret key\n",
    "KA = pow(YB, XA, p)  # Alice's shared secret key\n",
    "KB = pow(YA, XB, p)  # Bob's shared secret key\n",
    "# Check if Alice's and Bob's shared secret keys are the same\n",
    "if KA == KB:\n",
    "    K = KA  # The shared secret key\n",
    "    print(f\"Shared secret key K: {K}\")\n",
    "else:\n",
    "    print(\"Alice's and Bob's shared secret keys are not the same.\")\n"
   ]
  },
  {
   "cell_type": "code",
   "execution_count": 14,
   "metadata": {
    "colab": {
     "base_uri": "https://localhost:8080/"
    },
    "id": "Aoqauf7uHUv6",
    "outputId": "d3f40481-fef9-4e6b-91a8-ab7184d750a3"
   },
   "outputs": [
    {
     "name": "stdout",
     "output_type": "stream",
     "text": [
      "The number 20015893 passes the Miller-Rabin test with base 2001.\n"
     ]
    }
   ],
   "source": [
    "\"\"\"\n",
    " Q8 Let p be defined as in Q1, i.e. the smallest prime satisfying pn.\n",
    "Confirm that p passes the Miller-Rabin test by carrying out the necessary\n",
    "computations to confirm the expected value(s) modulo p of the exponential(s) with base a.\n",
    "In []:\n",
    "\"\"\"\n",
    "# Given variable\n",
    "a = 2001\n",
    "# Function to perform the Miller-Rabin test\n",
    "def miller_rabin_test(p, a):\n",
    "    # Write (p - 1) as 2^r * d\n",
    "    r, d = 0, p - 1\n",
    "    while d % 2 == 0:\n",
    "        r += 1\n",
    "        d //= 2\n",
    "    # Witness loop\n",
    "    x = pow(a, d, p)\n",
    "    if x == 1 or x == p - 1:\n",
    "        return True\n",
    "    for _ in range(r - 1):\n",
    "        x = pow(x, 2, p)\n",
    "        if x == p - 1:\n",
    "            return True\n",
    "    return False\n",
    "# Confirm that p passes the Miller-Rabin test\n",
    "if miller_rabin_test(p, a):\n",
    "    print(f\"The number {p} passes the Miller-Rabin test with base {a}.\")\n",
    "else:\n",
    "    print(f\"The number {p} does not pass the Miller-Rabin test with base {a}.\")"
   ]
  },
  {
   "cell_type": "markdown",
   "metadata": {
    "id": "-2rTA2VBb9dh"
   },
   "source": [
    "The Euclidean Algorithm is a method for finding the greatest common divisor (gcd) of two numbers. It works by repeatedly subtracting the smaller number from the larger one until the two numbers become equal. This final number is the gcd. However, a more efficient version of the algorithm uses division instead of subtraction. It repeatedly divides the larger number by the smaller one and replaces the larger number with the remainder until the remainder is zero. The divisor at this stage is the gcd.\n",
    "\n"
   ]
  },
  {
   "cell_type": "code",
   "execution_count": 42,
   "metadata": {
    "colab": {
     "base_uri": "https://localhost:8080/"
    },
    "id": "8dBWYFVQLR3q",
    "outputId": "f42ea81e-3ab7-4f4f-b839-b8ce25a8c2e0"
   },
   "outputs": [
    {
     "name": "stdout",
     "output_type": "stream",
     "text": [
      "2001 = 0 * 5840 + 2001\n",
      "5840 = 2 * 2001 + 1838\n",
      "2001 = 1 * 1838 + 163\n",
      "1838 = 11 * 163 + 45\n",
      "163 = 3 * 45 + 28\n",
      "45 = 1 * 28 + 17\n",
      "28 = 1 * 17 + 11\n",
      "17 = 1 * 11 + 6\n",
      "11 = 1 * 6 + 5\n",
      "6 = 1 * 5 + 1\n",
      "5 = 5 * 1 + 0\n",
      "The gcd is: 1\n"
     ]
    }
   ],
   "source": [
    "\n",
    "\"\"\"\n",
    "algorithm.\n",
    "These calculations should be done using a version of the function mygcd,\n",
    "written in lab session 01, that prints out the sequence of integer divisions.\n",
    " Include the code in your submission and provide a text cell that gives a brief summary,\n",
    "  in your own words, of how the algorithm is working and why the number produced is the required gcd value.\n",
    "\n",
    "\"\"\"\n",
    "\n",
    "def mygcd(a, b):\n",
    "    # I'll start by checking if 'b' is zero.\n",
    "    # If it is, then 'a' is the gcd.\n",
    "    if b == 0:\n",
    "        return a\n",
    "    # If 'b' is not zero, then I'll print out the current division.\n",
    "    print(f\"{a} = {a // b} * {b} + {a % b}\")\n",
    "    # Then, I'll recursively call 'mygcd' with 'b' and the remainder of 'a' divided by 'b'.\n",
    "    return mygcd(b, a % b)\n",
    "print(\"The gcd is:\", mygcd(2001, 5840))"
   ]
  },
  {
   "cell_type": "markdown",
   "metadata": {
    "id": "jX6m78_We08a"
   },
   "source": [
    "In this code, I'm using the factorint function from the sympy library to find the prime factorizations of a and b. The factorint function returns a dictionary where the keys are the prime factors and the values are their powers.\n",
    "The gcd of a and b can be seen in the prime factorizations of a and b as the product of the common prime factors. For example, if a and b both have 2 and 3 as prime factors, then 2 and 3 are part of the gcd. The power of each prime factor in the gcd is the minimum of the powers of that prime factor in a and b."
   ]
  },
  {
   "cell_type": "code",
   "execution_count": 41,
   "metadata": {
    "colab": {
     "base_uri": "https://localhost:8080/"
    },
    "id": "BTVjE3LSePd1",
    "outputId": "5bf71f1d-db40-43f4-925e-bf10747a4309"
   },
   "outputs": [
    {
     "name": "stdout",
     "output_type": "stream",
     "text": [
      "The prime factorization of 'a' is: {3: 1, 23: 1, 29: 1}\n",
      "The prime factorization of 'b' is: {2: 4, 5: 1, 73: 1}\n"
     ]
    }
   ],
   "source": [
    "\n",
    "from sympy import factorint\n",
    "\n",
    "\n",
    "\"\"\"\n",
    "NT.02\n",
    "Use a code cell and an appropriate command from\n",
    "the Sympy library to determine the prime factorizations of a and b.\n",
    " Use a text cell to briefly explain why the value of gcd(a, b) you calculated in\n",
    "  NT.01 can be seen in the prime factorizations of a and b.\n",
    "\n",
    "\"\"\"\n",
    "\n",
    "a, b = 2001, 5840\n",
    "# Now, I'll find the prime factorizations of 'a' and 'b'.\n",
    "prime_factors_a = factorint(a)\n",
    "prime_factors_b = factorint(b)\n",
    "\n",
    "# I'll print out the prime factorizations to check that they're correct.\n",
    "print(\"The prime factorization of 'a' is:\", prime_factors_a)\n",
    "print(\"The prime factorization of 'b' is:\", prime_factors_b)"
   ]
  },
  {
   "cell_type": "markdown",
   "metadata": {
    "id": "ObJx_br_fq1-"
   },
   "source": [
    "In this code, I'm implementing the Extended Euclidean Algorithm in the mygcdex function. I start by initializing old_r, r, old_s, s, old_t, t and then enter a loop that continues until r is 0. In each iteration, I compute the quotient q and update old_r, old_s, old_t, r, s, t. After the loop, old_r is the gcd and old_s, old_t are the coefficients x and y that satisfy gcd(a, b) = xa + yb."
   ]
  },
  {
   "cell_type": "code",
   "execution_count": 43,
   "metadata": {
    "colab": {
     "base_uri": "https://localhost:8080/"
    },
    "id": "-0QZZmDne2xy",
    "outputId": "499b0345-4d50-40d5-88f9-8b98ee687f03"
   },
   "outputs": [
    {
     "name": "stdout",
     "output_type": "stream",
     "text": [
      "Bezout coefficients: -1039, 356\n",
      "gcd: 1\n",
      "Check: 1 = -1039 * 2001 + 356 * 5840\n",
      "The coefficients 'x' and 'y' are: -1039 356\n"
     ]
    }
   ],
   "source": [
    "\"\"\"\n",
    "NT.03\n",
    "Demonstrate your understading of the Extended Euclidean Algorithm by determining the values of integer coefficients and y that satisfy\n",
    "gcd(a, b) = xa + yb.\n",
    "This should be done using a version of the mygcdex code,\n",
    "written in lab session 01, and an accompanying\n",
    "text block that demonstrates your understanding by briefly explaining in your own words,\n",
    "the main points of how the code works and why the output it produces are the required coefficients x and y.\n",
    "\n",
    "\"\"\"\n",
    "\n",
    "def mygcdex(a, b):\n",
    "    old_r, r = a, b\n",
    "    old_s, s = 1, 0\n",
    "    old_t, t = 0, 1\n",
    "\n",
    "    while r != 0:\n",
    "        q = old_r // r\n",
    "        old_r, r = r, old_r - q * r\n",
    "        old_s, s = s, old_s - q * s\n",
    "        old_t, t = t, old_t - q * t\n",
    "\n",
    "    print(f\"Bezout coefficients: {old_s}, {old_t}\")\n",
    "    print(f\"gcd: {old_r}\")\n",
    "    print(f\"Check: {old_r} = {old_s} * {a} + {old_t} * {b}\")\n",
    "\n",
    "    return old_s, old_t\n",
    "\n",
    "# Now, I'll test 'mygcdex' with two numbers.\n",
    "x, y = mygcdex(2001, 5840)\n",
    "print(\"The coefficients 'x' and 'y' are:\", x, y)"
   ]
  },
  {
   "cell_type": "markdown",
   "metadata": {
    "id": "GqXIRcT2ixCZ"
   },
   "source": [
    "In this code, I'm generating different coefficient pairs (x, y) that satisfy gcd(a, b) = xa + yb. I start by creating an empty list to store the coefficient pairs. Then, I generate n different coefficient pairs by adding multiples of b to x and subtracting multiples of a from y. I add each new pair of coefficients to the list and print them out along with a check that they satisfy gcd(a, b) = xa + yb. I return the list of coefficient pairs."
   ]
  },
  {
   "cell_type": "code",
   "execution_count": 45,
   "metadata": {
    "colab": {
     "base_uri": "https://localhost:8080/"
    },
    "id": "aB-2qBOAftVj",
    "outputId": "2ff5cfde-59e2-484c-a757-193c2d80cb1e"
   },
   "outputs": [
    {
     "name": "stdout",
     "output_type": "stream",
     "text": [
      "New coefficients: -1039, 356\n",
      "Check: 1 = -1039 * 2001 + 356 * 5840\n",
      "New coefficients: 4801, -1645\n",
      "Check: 1 = 4801 * 2001 + -1645 * 5840\n",
      "New coefficients: 10641, -3646\n",
      "Check: 1 = 10641 * 2001 + -3646 * 5840\n",
      "New coefficients: 16481, -5647\n",
      "Check: 1 = 16481 * 2001 + -5647 * 5840\n",
      "New coefficients: 22321, -7648\n",
      "Check: 1 = 22321 * 2001 + -7648 * 5840\n",
      "New coefficients: 28161, -9649\n",
      "Check: 1 = 28161 * 2001 + -9649 * 5840\n",
      "New coefficients: 34001, -11650\n",
      "Check: 1 = 34001 * 2001 + -11650 * 5840\n",
      "New coefficients: 39841, -13651\n",
      "Check: 1 = 39841 * 2001 + -13651 * 5840\n",
      "New coefficients: 45681, -15652\n",
      "Check: 1 = 45681 * 2001 + -15652 * 5840\n",
      "New coefficients: 51521, -17653\n",
      "Check: 1 = 51521 * 2001 + -17653 * 5840\n",
      "The different coefficient pairs are: [(-1039, 356), (4801, -1645), (10641, -3646), (16481, -5647), (22321, -7648), (28161, -9649), (34001, -11650), (39841, -13651), (45681, -15652), (51521, -17653)]\n"
     ]
    }
   ],
   "source": [
    "\n",
    "\n",
    "\"\"\"\n",
    "NT.04\n",
    "Use a text block to explain how to alter the definition of the Python function mygcdex so that it produces a different pair of coefficients (x, y) that satisfy the condition in NT.03.\n",
    "Then use a code block to write a Python routine that can generate any number of different coefficient pairs (x, y). Demonstrate it by producing 10 distinct such pairs that satisfy\n",
    "gcd(a, b) = xa + yb.\n",
    "\n",
    "\"\"\"\n",
    "def generate_coefficients(a, b, x, y, n):\n",
    "    gcd = x * a + y * b\n",
    "\n",
    "    # I'll start by creating an empty list to store the coefficient pairs.\n",
    "    coefficients = []\n",
    "\n",
    "    # Then, I'll generate 'n' different coefficient pairs.\n",
    "    for i in range(n):\n",
    "        # I'll calculate the new coefficients 'x' and 'y'.\n",
    "        new_x = x + i * b\n",
    "        new_y = y - i * a\n",
    "        # I'll add the new coefficients to the list.\n",
    "        coefficients.append((new_x, new_y))\n",
    "        # I'll print out the new coefficients and check that they satisfy 'gcd(a, b) = xa + yb'.\n",
    "        print(f\"New coefficients: {new_x}, {new_y}\")\n",
    "        print(f\"Check: {gcd} = {new_x} * {a} + {new_y} * {b}\")\n",
    "    return coefficients\n",
    "# Now, I'll test 'generate_coefficients' with 'a', 'b', 'x', 'y', and the number of coefficient pairs to generate.\n",
    "coefficients = generate_coefficients(2001, 5840, x, y, 10)\n",
    "print(\"The different coefficient pairs are:\", coefficients)"
   ]
  }
 ],
 "metadata": {
  "colab": {
   "provenance": []
  },
  "kernelspec": {
   "display_name": "Python 3 (ipykernel)",
   "language": "python",
   "name": "python3"
  },
  "language_info": {
   "codemirror_mode": {
    "name": "ipython",
    "version": 3
   },
   "file_extension": ".py",
   "mimetype": "text/x-python",
   "name": "python",
   "nbconvert_exporter": "python",
   "pygments_lexer": "ipython3",
   "version": "3.9.12"
  }
 },
 "nbformat": 4,
 "nbformat_minor": 1
}
