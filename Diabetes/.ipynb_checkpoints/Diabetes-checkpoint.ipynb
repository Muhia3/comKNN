{
 "cells": [
  {
   "cell_type": "markdown",
   "id": "c72f47df",
   "metadata": {},
   "source": [
    "EVENT:         : ANALYSIS DAY (27TH/10) FORTH YEAR\n"
   ]
  },
  {
   "cell_type": "markdown",
   "id": "33153a17",
   "metadata": {},
   "source": [
    "PRESENTATION BY: MUHIA RICHARD"
   ]
  },
  {
   "cell_type": "markdown",
   "id": "f37db432",
   "metadata": {},
   "source": [
    "PROBLEM STATEMENT: BUILDING A MACHINE LEARNING SYSTEM THAT CAN PREDICT WHETHER PERSON HAS DIABETES\n",
    "                 "
   ]
  },
  {
   "cell_type": "markdown",
   "id": "f649cfad",
   "metadata": {},
   "source": [
    "         WELCOME"
   ]
  },
  {
   "cell_type": "markdown",
   "id": "cd58f9a3",
   "metadata": {},
   "source": [
    "# Importing the Dependencies"
   ]
  },
  {
   "cell_type": "code",
   "execution_count": null,
   "id": "7880b095",
   "metadata": {},
   "outputs": [],
   "source": [
    "import numpy as np\n",
    "import pandas as pd\n",
    "from sklearn.preprocessing import StandardScaler\n",
    "from sklearn.model_selection import train_test_split\n",
    "from sklearn import svm\n",
    "from sklearn.metrics import accuracy_score"
   ]
  },
  {
   "cell_type": "markdown",
   "id": "33646f6b",
   "metadata": {},
   "source": [
    "# STEP 1: Data Collection AND EXPLORATION \n",
    "\n",
    "PIMA Diabetes Datase"
   ]
  },
  {
   "cell_type": "code",
   "execution_count": null,
   "id": "e36c27cd",
   "metadata": {},
   "outputs": [],
   "source": [
    "# loading the diabetes dataset to a pandas DataFrame and  printing the first 5 rows of the dataset\n",
    "diabetes_dataset = pd.read_csv('diabetes.csv')\n",
    "diabetes_dataset.head()"
   ]
  },
  {
   "cell_type": "code",
   "execution_count": null,
   "id": "46964acd",
   "metadata": {},
   "outputs": [],
   "source": [
    "pd.read_csv?"
   ]
  },
  {
   "cell_type": "code",
   "execution_count": null,
   "id": "95ddbf06",
   "metadata": {},
   "outputs": [],
   "source": [
    "diabetes_dataset.tail()"
   ]
  },
  {
   "cell_type": "code",
   "execution_count": null,
   "id": "094a7654",
   "metadata": {},
   "outputs": [],
   "source": [
    "# number of rows and Columns in this dataset\n",
    "diabetes_dataset.shape"
   ]
  },
  {
   "cell_type": "code",
   "execution_count": null,
   "id": "6c85cc5a",
   "metadata": {},
   "outputs": [],
   "source": [
    "# getting the statistical measures of the data\n",
    "diabetes_dataset.describe()"
   ]
  },
  {
   "cell_type": "code",
   "execution_count": null,
   "id": "0ebe8427",
   "metadata": {},
   "outputs": [],
   "source": [
    "diabetes_dataset['Outcome'].value_counts()"
   ]
  },
  {
   "cell_type": "markdown",
   "id": "300a1c19",
   "metadata": {},
   "source": [
    "0 --> Non-Diabetic\n",
    "\n",
    "1 --> Diabetic"
   ]
  },
  {
   "cell_type": "code",
   "execution_count": null,
   "id": "7afea171",
   "metadata": {},
   "outputs": [],
   "source": [
    "diabetes_dataset.groupby('Outcome').mean()"
   ]
  },
  {
   "cell_type": "code",
   "execution_count": null,
   "id": "d6322607",
   "metadata": {},
   "outputs": [],
   "source": [
    "# separating the data and labels\n",
    "X = diabetes_dataset.drop(columns = 'Outcome', axis=1)\n",
    "Y = diabetes_dataset['Outcome']"
   ]
  },
  {
   "cell_type": "code",
   "execution_count": null,
   "id": "fb421fdc",
   "metadata": {},
   "outputs": [],
   "source": [
    "print(X)"
   ]
  },
  {
   "cell_type": "code",
   "execution_count": null,
   "id": "18bf9f4c",
   "metadata": {},
   "outputs": [],
   "source": [
    "print(Y)"
   ]
  },
  {
   "cell_type": "markdown",
   "id": "72e26816",
   "metadata": {},
   "source": [
    "# Step 2: Data Preperation \n",
    "Data Standardization"
   ]
  },
  {
   "cell_type": "code",
   "execution_count": null,
   "id": "a942860e",
   "metadata": {},
   "outputs": [],
   "source": [
    "scaler = StandardScaler()"
   ]
  },
  {
   "cell_type": "code",
   "execution_count": null,
   "id": "45372727",
   "metadata": {},
   "outputs": [],
   "source": [
    "scaler.fit(X)"
   ]
  },
  {
   "cell_type": "code",
   "execution_count": null,
   "id": "9387db71",
   "metadata": {},
   "outputs": [],
   "source": [
    "standardized_data = scaler.transform(X)"
   ]
  },
  {
   "cell_type": "code",
   "execution_count": null,
   "id": "3ca88d41",
   "metadata": {},
   "outputs": [],
   "source": [
    "print(standardized_data)"
   ]
  },
  {
   "cell_type": "code",
   "execution_count": null,
   "id": "1e9a391d",
   "metadata": {},
   "outputs": [],
   "source": [
    "X = standardized_data\n",
    "Y = diabetes_dataset['Outcome']"
   ]
  },
  {
   "cell_type": "code",
   "execution_count": null,
   "id": "dcde8370",
   "metadata": {},
   "outputs": [],
   "source": [
    "print(X)"
   ]
  },
  {
   "cell_type": "code",
   "execution_count": null,
   "id": "165f86b3",
   "metadata": {},
   "outputs": [],
   "source": [
    "print(Y)"
   ]
  },
  {
   "cell_type": "markdown",
   "id": "f5c9b2ce",
   "metadata": {},
   "source": [
    "# Train Test Split"
   ]
  },
  {
   "cell_type": "code",
   "execution_count": null,
   "id": "03d325c1",
   "metadata": {},
   "outputs": [],
   "source": [
    "diabetes_dataset.isna().sum()"
   ]
  },
  {
   "cell_type": "code",
   "execution_count": null,
   "id": "57e8e00f",
   "metadata": {},
   "outputs": [],
   "source": [
    "diabetes_dataset.loc[diabetes_dataset.duplicated()]"
   ]
  },
  {
   "cell_type": "code",
   "execution_count": null,
   "id": "76911cad",
   "metadata": {},
   "outputs": [],
   "source": [
    "X_train, X_test, Y_train, Y_test = train_test_split(X,Y, test_size = 0.2, stratify=Y, random_state=2) \n",
    "                                                         #stratify specifies to observe same propotion\n",
    "       #random state ensures that the same split is obtained every time you run the code with this parameter value"
   ]
  },
  {
   "cell_type": "code",
   "execution_count": null,
   "id": "8ec30609",
   "metadata": {},
   "outputs": [],
   "source": [
    "print(X.shape, X_train.shape, X_test.shape)"
   ]
  },
  {
   "cell_type": "markdown",
   "id": "7fae31ff",
   "metadata": {},
   "source": [
    "# Training the Model"
   ]
  },
  {
   "cell_type": "code",
   "execution_count": null,
   "id": "1617b70f",
   "metadata": {},
   "outputs": [],
   "source": [
    "classifier = svm.SVC(kernel='linear')"
   ]
  },
  {
   "cell_type": "code",
   "execution_count": null,
   "id": "bfb6a20b",
   "metadata": {},
   "outputs": [],
   "source": [
    "#training the support vector Machine Classifier\n",
    "classifier.fit(X_train, Y_train)"
   ]
  },
  {
   "cell_type": "markdown",
   "id": "421d45ea",
   "metadata": {},
   "source": [
    "# Model Evaluation\n",
    "Accuracy Score"
   ]
  },
  {
   "cell_type": "code",
   "execution_count": null,
   "id": "5747c991",
   "metadata": {},
   "outputs": [],
   "source": [
    "# accuracy score on the training data\n",
    "X_train_prediction = classifier.predict(X_train)\n",
    "training_data_accuracy = accuracy_score(X_train_prediction, Y_train)"
   ]
  },
  {
   "cell_type": "code",
   "execution_count": null,
   "id": "69a51cf1",
   "metadata": {},
   "outputs": [],
   "source": [
    "print('Accuracy score of the training data : ', training_data_accuracy)"
   ]
  },
  {
   "cell_type": "code",
   "execution_count": null,
   "id": "c6c36aa4",
   "metadata": {},
   "outputs": [],
   "source": [
    "# accuracy score on the test data\n",
    "X_test_prediction = classifier.predict(X_test)\n",
    "test_data_accuracy = accuracy_score(X_test_prediction, Y_test)"
   ]
  },
  {
   "cell_type": "code",
   "execution_count": null,
   "id": "b4be5398",
   "metadata": {},
   "outputs": [],
   "source": [
    "print('Accuracy score of the test data : ', test_data_accuracy)"
   ]
  },
  {
   "cell_type": "markdown",
   "id": "d7bf2022",
   "metadata": {},
   "source": [
    "# Step 5: Ask a Question about the data\n",
    "               Making a Predictive System"
   ]
  },
  {
   "cell_type": "code",
   "execution_count": null,
   "id": "01ccf8f3",
   "metadata": {},
   "outputs": [],
   "source": [
    "input_data = (5,166,72,19,175,25.8,0.587,51)\n",
    "\n",
    "# changing the input_data to numpy array\n",
    "input_data_as_numpy_array = np.asarray(input_data)\n",
    "\n",
    "# reshape the array as we are predicting for one instance\n",
    "input_data_reshaped = input_data_as_numpy_array.reshape(1,-1)\n",
    "\n",
    "# standardize the input data\n",
    "std_data = scaler.transform(input_data_reshaped)\n",
    "print(std_data)\n",
    "\n",
    "prediction = classifier.predict(std_data)\n",
    "print(prediction)\n",
    "\n",
    "if (prediction[0] == 0):\n",
    "  print('The person is not diabetic')\n",
    "else:\n",
    "  print('The person is diabetic')"
   ]
  },
  {
   "cell_type": "code",
   "execution_count": null,
   "id": "49e3231b",
   "metadata": {},
   "outputs": [],
   "source": [
    "\n",
    "# List of input data points\n",
    "input_data_list = [(5, 166, 72, 19, 175, 25.8, 0.587, 51),(5, 166, 72, 19, 175, 25.8, 0.587, 34), (2,88,58,26,16,28.4,0.766,22) ]\n",
    "\n",
    "for input in input_data_list:\n",
    "    # Convert the input_data to a numpy array and reshape it for prediction\n",
    "    input_as_numpy_array = np.asarray(input).reshape(1, -1)\n",
    "\n",
    "    # Standardize the input data\n",
    "    standardized_data = scaler.transform(input_as_numpy_array)\n",
    "\n",
    "    # Make a prediction\n",
    "    prediction = classifier.predict(standardized_data)\n",
    "\n",
    "    # Print the standardized data and prediction\n",
    "    print(\"Standardized Data:\", standardized_data)\n",
    "    print(\"Prediction:\", prediction)\n",
    "\n",
    "    # Interpret the prediction\n",
    "    if prediction[0] == 0:\n",
    "        print('The person is not diabetic')\n",
    "    else:\n",
    "        print('The person is diabetic')\n",
    "\n"
   ]
  },
  {
   "cell_type": "markdown",
   "id": "0dbc1838",
   "metadata": {},
   "source": [
    "GOD BLESS ASSA ! BEST WISHES IN THIS DATA DRIVEN WORLD"
   ]
  },
  {
   "cell_type": "markdown",
   "id": "32d2ab02",
   "metadata": {},
   "source": [
    "THANK YOU!."
   ]
  }
 ],
 "metadata": {
  "kernelspec": {
   "display_name": "Python 3 (ipykernel)",
   "language": "python",
   "name": "python3"
  },
  "language_info": {
   "codemirror_mode": {
    "name": "ipython",
    "version": 3
   },
   "file_extension": ".py",
   "mimetype": "text/x-python",
   "name": "python",
   "nbconvert_exporter": "python",
   "pygments_lexer": "ipython3",
   "version": "3.9.12"
  }
 },
 "nbformat": 4,
 "nbformat_minor": 5
}
