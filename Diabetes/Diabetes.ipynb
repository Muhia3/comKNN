{
 "cells": [
  {
   "cell_type": "markdown",
   "id": "c72f47df",
   "metadata": {},
   "source": [
    "EVENT:         : ANALYSIS DAY (27TH/10) FORTH YEAR\n"
   ]
  },
  {
   "cell_type": "markdown",
   "id": "33153a17",
   "metadata": {},
   "source": [
    "PRESENTATION BY: MUHIA RICHARD"
   ]
  },
  {
   "cell_type": "markdown",
   "id": "f37db432",
   "metadata": {},
   "source": [
    "PROBLEM STATEMENT: BUILDING A MACHINE LEARNING SYSTEM THAT CAN PREDICT WHETHER PERSON HAS DIABETES\n",
    "                 "
   ]
  },
  {
   "cell_type": "markdown",
   "id": "f649cfad",
   "metadata": {},
   "source": [
    "         WELCOME"
   ]
  },
  {
   "cell_type": "markdown",
   "id": "cd58f9a3",
   "metadata": {},
   "source": [
    "# Importing the Dependencies"
   ]
  },
  {
   "cell_type": "code",
   "execution_count": 27,
   "id": "7880b095",
   "metadata": {},
   "outputs": [],
   "source": [
    "import numpy as np\n",
    "import pandas as pd\n",
    "from matplotlib import pyplot\n",
    "from sklearn.preprocessing import StandardScaler\n",
    "from sklearn.model_selection import train_test_split\n",
    "from sklearn import svm\n",
    "from sklearn.metrics import accuracy_score"
   ]
  },
  {
   "cell_type": "markdown",
   "id": "33646f6b",
   "metadata": {},
   "source": [
    "# STEP 1: Data Collection AND EXPLORATION \n",
    "\n",
    "PIMA Diabetes Datase"
   ]
  },
  {
   "cell_type": "code",
   "execution_count": 2,
   "id": "e36c27cd",
   "metadata": {},
   "outputs": [
    {
     "data": {
      "text/html": [
       "<div>\n",
       "<style scoped>\n",
       "    .dataframe tbody tr th:only-of-type {\n",
       "        vertical-align: middle;\n",
       "    }\n",
       "\n",
       "    .dataframe tbody tr th {\n",
       "        vertical-align: top;\n",
       "    }\n",
       "\n",
       "    .dataframe thead th {\n",
       "        text-align: right;\n",
       "    }\n",
       "</style>\n",
       "<table border=\"1\" class=\"dataframe\">\n",
       "  <thead>\n",
       "    <tr style=\"text-align: right;\">\n",
       "      <th></th>\n",
       "      <th>Pregnancies</th>\n",
       "      <th>Glucose</th>\n",
       "      <th>BloodPressure</th>\n",
       "      <th>SkinThickness</th>\n",
       "      <th>Insulin</th>\n",
       "      <th>BMI</th>\n",
       "      <th>DiabetesPedigreeFunction</th>\n",
       "      <th>Age</th>\n",
       "      <th>Outcome</th>\n",
       "    </tr>\n",
       "  </thead>\n",
       "  <tbody>\n",
       "    <tr>\n",
       "      <th>0</th>\n",
       "      <td>6</td>\n",
       "      <td>148</td>\n",
       "      <td>72</td>\n",
       "      <td>35</td>\n",
       "      <td>0</td>\n",
       "      <td>33.6</td>\n",
       "      <td>0.627</td>\n",
       "      <td>50</td>\n",
       "      <td>1</td>\n",
       "    </tr>\n",
       "    <tr>\n",
       "      <th>1</th>\n",
       "      <td>1</td>\n",
       "      <td>85</td>\n",
       "      <td>66</td>\n",
       "      <td>29</td>\n",
       "      <td>0</td>\n",
       "      <td>26.6</td>\n",
       "      <td>0.351</td>\n",
       "      <td>31</td>\n",
       "      <td>0</td>\n",
       "    </tr>\n",
       "    <tr>\n",
       "      <th>2</th>\n",
       "      <td>8</td>\n",
       "      <td>183</td>\n",
       "      <td>64</td>\n",
       "      <td>0</td>\n",
       "      <td>0</td>\n",
       "      <td>23.3</td>\n",
       "      <td>0.672</td>\n",
       "      <td>32</td>\n",
       "      <td>1</td>\n",
       "    </tr>\n",
       "    <tr>\n",
       "      <th>3</th>\n",
       "      <td>1</td>\n",
       "      <td>89</td>\n",
       "      <td>66</td>\n",
       "      <td>23</td>\n",
       "      <td>94</td>\n",
       "      <td>28.1</td>\n",
       "      <td>0.167</td>\n",
       "      <td>21</td>\n",
       "      <td>0</td>\n",
       "    </tr>\n",
       "    <tr>\n",
       "      <th>4</th>\n",
       "      <td>0</td>\n",
       "      <td>137</td>\n",
       "      <td>40</td>\n",
       "      <td>35</td>\n",
       "      <td>168</td>\n",
       "      <td>43.1</td>\n",
       "      <td>2.288</td>\n",
       "      <td>33</td>\n",
       "      <td>1</td>\n",
       "    </tr>\n",
       "  </tbody>\n",
       "</table>\n",
       "</div>"
      ],
      "text/plain": [
       "   Pregnancies  Glucose  BloodPressure  SkinThickness  Insulin   BMI  \\\n",
       "0            6      148             72             35        0  33.6   \n",
       "1            1       85             66             29        0  26.6   \n",
       "2            8      183             64              0        0  23.3   \n",
       "3            1       89             66             23       94  28.1   \n",
       "4            0      137             40             35      168  43.1   \n",
       "\n",
       "   DiabetesPedigreeFunction  Age  Outcome  \n",
       "0                     0.627   50        1  \n",
       "1                     0.351   31        0  \n",
       "2                     0.672   32        1  \n",
       "3                     0.167   21        0  \n",
       "4                     2.288   33        1  "
      ]
     },
     "execution_count": 2,
     "metadata": {},
     "output_type": "execute_result"
    }
   ],
   "source": [
    "# loading the diabetes dataset to a pandas DataFrame and  printing the first 5 rows of the dataset\n",
    "diabetes_dataset = pd.read_csv('diabetes.csv')\n",
    "diabetes_dataset.head()"
   ]
  },
  {
   "cell_type": "code",
   "execution_count": 3,
   "id": "46964acd",
   "metadata": {},
   "outputs": [],
   "source": [
    "pd.read_csv?"
   ]
  },
  {
   "cell_type": "code",
   "execution_count": 4,
   "id": "95ddbf06",
   "metadata": {},
   "outputs": [
    {
     "data": {
      "text/html": [
       "<div>\n",
       "<style scoped>\n",
       "    .dataframe tbody tr th:only-of-type {\n",
       "        vertical-align: middle;\n",
       "    }\n",
       "\n",
       "    .dataframe tbody tr th {\n",
       "        vertical-align: top;\n",
       "    }\n",
       "\n",
       "    .dataframe thead th {\n",
       "        text-align: right;\n",
       "    }\n",
       "</style>\n",
       "<table border=\"1\" class=\"dataframe\">\n",
       "  <thead>\n",
       "    <tr style=\"text-align: right;\">\n",
       "      <th></th>\n",
       "      <th>Pregnancies</th>\n",
       "      <th>Glucose</th>\n",
       "      <th>BloodPressure</th>\n",
       "      <th>SkinThickness</th>\n",
       "      <th>Insulin</th>\n",
       "      <th>BMI</th>\n",
       "      <th>DiabetesPedigreeFunction</th>\n",
       "      <th>Age</th>\n",
       "      <th>Outcome</th>\n",
       "    </tr>\n",
       "  </thead>\n",
       "  <tbody>\n",
       "    <tr>\n",
       "      <th>763</th>\n",
       "      <td>10</td>\n",
       "      <td>101</td>\n",
       "      <td>76</td>\n",
       "      <td>48</td>\n",
       "      <td>180</td>\n",
       "      <td>32.9</td>\n",
       "      <td>0.171</td>\n",
       "      <td>63</td>\n",
       "      <td>0</td>\n",
       "    </tr>\n",
       "    <tr>\n",
       "      <th>764</th>\n",
       "      <td>2</td>\n",
       "      <td>122</td>\n",
       "      <td>70</td>\n",
       "      <td>27</td>\n",
       "      <td>0</td>\n",
       "      <td>36.8</td>\n",
       "      <td>0.340</td>\n",
       "      <td>27</td>\n",
       "      <td>0</td>\n",
       "    </tr>\n",
       "    <tr>\n",
       "      <th>765</th>\n",
       "      <td>5</td>\n",
       "      <td>121</td>\n",
       "      <td>72</td>\n",
       "      <td>23</td>\n",
       "      <td>112</td>\n",
       "      <td>26.2</td>\n",
       "      <td>0.245</td>\n",
       "      <td>30</td>\n",
       "      <td>0</td>\n",
       "    </tr>\n",
       "    <tr>\n",
       "      <th>766</th>\n",
       "      <td>1</td>\n",
       "      <td>126</td>\n",
       "      <td>60</td>\n",
       "      <td>0</td>\n",
       "      <td>0</td>\n",
       "      <td>30.1</td>\n",
       "      <td>0.349</td>\n",
       "      <td>47</td>\n",
       "      <td>1</td>\n",
       "    </tr>\n",
       "    <tr>\n",
       "      <th>767</th>\n",
       "      <td>1</td>\n",
       "      <td>93</td>\n",
       "      <td>70</td>\n",
       "      <td>31</td>\n",
       "      <td>0</td>\n",
       "      <td>30.4</td>\n",
       "      <td>0.315</td>\n",
       "      <td>23</td>\n",
       "      <td>0</td>\n",
       "    </tr>\n",
       "  </tbody>\n",
       "</table>\n",
       "</div>"
      ],
      "text/plain": [
       "     Pregnancies  Glucose  BloodPressure  SkinThickness  Insulin   BMI  \\\n",
       "763           10      101             76             48      180  32.9   \n",
       "764            2      122             70             27        0  36.8   \n",
       "765            5      121             72             23      112  26.2   \n",
       "766            1      126             60              0        0  30.1   \n",
       "767            1       93             70             31        0  30.4   \n",
       "\n",
       "     DiabetesPedigreeFunction  Age  Outcome  \n",
       "763                     0.171   63        0  \n",
       "764                     0.340   27        0  \n",
       "765                     0.245   30        0  \n",
       "766                     0.349   47        1  \n",
       "767                     0.315   23        0  "
      ]
     },
     "execution_count": 4,
     "metadata": {},
     "output_type": "execute_result"
    }
   ],
   "source": [
    "diabetes_dataset.tail()"
   ]
  },
  {
   "cell_type": "code",
   "execution_count": 5,
   "id": "094a7654",
   "metadata": {},
   "outputs": [
    {
     "data": {
      "text/plain": [
       "(768, 9)"
      ]
     },
     "execution_count": 5,
     "metadata": {},
     "output_type": "execute_result"
    }
   ],
   "source": [
    "# number of rows and Columns in this dataset\n",
    "diabetes_dataset.shape"
   ]
  },
  {
   "cell_type": "code",
   "execution_count": 6,
   "id": "6c85cc5a",
   "metadata": {},
   "outputs": [
    {
     "data": {
      "text/html": [
       "<style type=\"text/css\">\n",
       "#T_d777a_row0_col0, #T_d777a_row0_col1, #T_d777a_row0_col2, #T_d777a_row0_col3, #T_d777a_row0_col5, #T_d777a_row0_col6, #T_d777a_row0_col7, #T_d777a_row0_col8, #T_d777a_row7_col4 {\n",
       "  background-color: #313695;\n",
       "  color: #f1f1f1;\n",
       "}\n",
       "#T_d777a_row0_col4 {\n",
       "  background-color: #436fb1;\n",
       "  color: #f1f1f1;\n",
       "}\n",
       "#T_d777a_row1_col0, #T_d777a_row2_col0, #T_d777a_row5_col0 {\n",
       "  background-color: #a70226;\n",
       "  color: #f1f1f1;\n",
       "}\n",
       "#T_d777a_row1_col1, #T_d777a_row7_col2 {\n",
       "  background-color: #e75337;\n",
       "  color: #f1f1f1;\n",
       "}\n",
       "#T_d777a_row1_col2, #T_d777a_row7_col7 {\n",
       "  background-color: #d22b27;\n",
       "  color: #f1f1f1;\n",
       "}\n",
       "#T_d777a_row1_col3, #T_d777a_row2_col2 {\n",
       "  background-color: #b10b26;\n",
       "  color: #f1f1f1;\n",
       "}\n",
       "#T_d777a_row1_col4, #T_d777a_row5_col2 {\n",
       "  background-color: #d42d27;\n",
       "  color: #f1f1f1;\n",
       "}\n",
       "#T_d777a_row1_col5, #T_d777a_row2_col1, #T_d777a_row5_col5, #T_d777a_row6_col3 {\n",
       "  background-color: #b91326;\n",
       "  color: #f1f1f1;\n",
       "}\n",
       "#T_d777a_row1_col6, #T_d777a_row1_col8, #T_d777a_row2_col6, #T_d777a_row2_col7, #T_d777a_row2_col8, #T_d777a_row3_col0, #T_d777a_row3_col1, #T_d777a_row3_col2, #T_d777a_row3_col3, #T_d777a_row3_col4, #T_d777a_row3_col5, #T_d777a_row3_col6, #T_d777a_row3_col8, #T_d777a_row4_col0, #T_d777a_row4_col3, #T_d777a_row4_col4, #T_d777a_row4_col6, #T_d777a_row4_col8, #T_d777a_row5_col6, #T_d777a_row5_col8, #T_d777a_row6_col6, #T_d777a_row6_col8, #T_d777a_row7_col6, #T_d777a_row7_col8 {\n",
       "  background-color: #a50026;\n",
       "  color: #f1f1f1;\n",
       "}\n",
       "#T_d777a_row1_col7, #T_d777a_row5_col3 {\n",
       "  background-color: #b30d26;\n",
       "  color: #f1f1f1;\n",
       "}\n",
       "#T_d777a_row2_col3, #T_d777a_row5_col7, #T_d777a_row7_col0 {\n",
       "  background-color: #af0926;\n",
       "  color: #f1f1f1;\n",
       "}\n",
       "#T_d777a_row2_col4 {\n",
       "  background-color: #e14430;\n",
       "  color: #f1f1f1;\n",
       "}\n",
       "#T_d777a_row2_col5, #T_d777a_row6_col0 {\n",
       "  background-color: #a90426;\n",
       "  color: #f1f1f1;\n",
       "}\n",
       "#T_d777a_row3_col7 {\n",
       "  background-color: #ab0626;\n",
       "  color: #f1f1f1;\n",
       "}\n",
       "#T_d777a_row4_col1, #T_d777a_row7_col3 {\n",
       "  background-color: #e0422f;\n",
       "  color: #f1f1f1;\n",
       "}\n",
       "#T_d777a_row4_col2 {\n",
       "  background-color: #cc2627;\n",
       "  color: #f1f1f1;\n",
       "}\n",
       "#T_d777a_row4_col5, #T_d777a_row5_col4, #T_d777a_row6_col7 {\n",
       "  background-color: #b71126;\n",
       "  color: #f1f1f1;\n",
       "}\n",
       "#T_d777a_row4_col7 {\n",
       "  background-color: #ad0826;\n",
       "  color: #f1f1f1;\n",
       "}\n",
       "#T_d777a_row5_col1 {\n",
       "  background-color: #e65036;\n",
       "  color: #f1f1f1;\n",
       "}\n",
       "#T_d777a_row6_col1 {\n",
       "  background-color: #ee613e;\n",
       "  color: #f1f1f1;\n",
       "}\n",
       "#T_d777a_row6_col2 {\n",
       "  background-color: #d83128;\n",
       "  color: #f1f1f1;\n",
       "}\n",
       "#T_d777a_row6_col4 {\n",
       "  background-color: #e54e35;\n",
       "  color: #f1f1f1;\n",
       "}\n",
       "#T_d777a_row6_col5 {\n",
       "  background-color: #bd1726;\n",
       "  color: #f1f1f1;\n",
       "}\n",
       "#T_d777a_row7_col1 {\n",
       "  background-color: #f99355;\n",
       "  color: #000000;\n",
       "}\n",
       "#T_d777a_row7_col5 {\n",
       "  background-color: #d02927;\n",
       "  color: #f1f1f1;\n",
       "}\n",
       "</style>\n",
       "<table id=\"T_d777a\">\n",
       "  <thead>\n",
       "    <tr>\n",
       "      <th class=\"blank level0\" >&nbsp;</th>\n",
       "      <th id=\"T_d777a_level0_col0\" class=\"col_heading level0 col0\" >Pregnancies</th>\n",
       "      <th id=\"T_d777a_level0_col1\" class=\"col_heading level0 col1\" >Glucose</th>\n",
       "      <th id=\"T_d777a_level0_col2\" class=\"col_heading level0 col2\" >BloodPressure</th>\n",
       "      <th id=\"T_d777a_level0_col3\" class=\"col_heading level0 col3\" >SkinThickness</th>\n",
       "      <th id=\"T_d777a_level0_col4\" class=\"col_heading level0 col4\" >Insulin</th>\n",
       "      <th id=\"T_d777a_level0_col5\" class=\"col_heading level0 col5\" >BMI</th>\n",
       "      <th id=\"T_d777a_level0_col6\" class=\"col_heading level0 col6\" >DiabetesPedigreeFunction</th>\n",
       "      <th id=\"T_d777a_level0_col7\" class=\"col_heading level0 col7\" >Age</th>\n",
       "      <th id=\"T_d777a_level0_col8\" class=\"col_heading level0 col8\" >Outcome</th>\n",
       "    </tr>\n",
       "  </thead>\n",
       "  <tbody>\n",
       "    <tr>\n",
       "      <th id=\"T_d777a_level0_row0\" class=\"row_heading level0 row0\" >count</th>\n",
       "      <td id=\"T_d777a_row0_col0\" class=\"data row0 col0\" >768.000000</td>\n",
       "      <td id=\"T_d777a_row0_col1\" class=\"data row0 col1\" >768.000000</td>\n",
       "      <td id=\"T_d777a_row0_col2\" class=\"data row0 col2\" >768.000000</td>\n",
       "      <td id=\"T_d777a_row0_col3\" class=\"data row0 col3\" >768.000000</td>\n",
       "      <td id=\"T_d777a_row0_col4\" class=\"data row0 col4\" >768.000000</td>\n",
       "      <td id=\"T_d777a_row0_col5\" class=\"data row0 col5\" >768.000000</td>\n",
       "      <td id=\"T_d777a_row0_col6\" class=\"data row0 col6\" >768.000000</td>\n",
       "      <td id=\"T_d777a_row0_col7\" class=\"data row0 col7\" >768.000000</td>\n",
       "      <td id=\"T_d777a_row0_col8\" class=\"data row0 col8\" >768.000000</td>\n",
       "    </tr>\n",
       "    <tr>\n",
       "      <th id=\"T_d777a_level0_row1\" class=\"row_heading level0 row1\" >mean</th>\n",
       "      <td id=\"T_d777a_row1_col0\" class=\"data row1 col0\" >3.845052</td>\n",
       "      <td id=\"T_d777a_row1_col1\" class=\"data row1 col1\" >120.894531</td>\n",
       "      <td id=\"T_d777a_row1_col2\" class=\"data row1 col2\" >69.105469</td>\n",
       "      <td id=\"T_d777a_row1_col3\" class=\"data row1 col3\" >20.536458</td>\n",
       "      <td id=\"T_d777a_row1_col4\" class=\"data row1 col4\" >79.799479</td>\n",
       "      <td id=\"T_d777a_row1_col5\" class=\"data row1 col5\" >31.992578</td>\n",
       "      <td id=\"T_d777a_row1_col6\" class=\"data row1 col6\" >0.471876</td>\n",
       "      <td id=\"T_d777a_row1_col7\" class=\"data row1 col7\" >33.240885</td>\n",
       "      <td id=\"T_d777a_row1_col8\" class=\"data row1 col8\" >0.348958</td>\n",
       "    </tr>\n",
       "    <tr>\n",
       "      <th id=\"T_d777a_level0_row2\" class=\"row_heading level0 row2\" >std</th>\n",
       "      <td id=\"T_d777a_row2_col0\" class=\"data row2 col0\" >3.369578</td>\n",
       "      <td id=\"T_d777a_row2_col1\" class=\"data row2 col1\" >31.972618</td>\n",
       "      <td id=\"T_d777a_row2_col2\" class=\"data row2 col2\" >19.355807</td>\n",
       "      <td id=\"T_d777a_row2_col3\" class=\"data row2 col3\" >15.952218</td>\n",
       "      <td id=\"T_d777a_row2_col4\" class=\"data row2 col4\" >115.244002</td>\n",
       "      <td id=\"T_d777a_row2_col5\" class=\"data row2 col5\" >7.884160</td>\n",
       "      <td id=\"T_d777a_row2_col6\" class=\"data row2 col6\" >0.331329</td>\n",
       "      <td id=\"T_d777a_row2_col7\" class=\"data row2 col7\" >11.760232</td>\n",
       "      <td id=\"T_d777a_row2_col8\" class=\"data row2 col8\" >0.476951</td>\n",
       "    </tr>\n",
       "    <tr>\n",
       "      <th id=\"T_d777a_level0_row3\" class=\"row_heading level0 row3\" >min</th>\n",
       "      <td id=\"T_d777a_row3_col0\" class=\"data row3 col0\" >0.000000</td>\n",
       "      <td id=\"T_d777a_row3_col1\" class=\"data row3 col1\" >0.000000</td>\n",
       "      <td id=\"T_d777a_row3_col2\" class=\"data row3 col2\" >0.000000</td>\n",
       "      <td id=\"T_d777a_row3_col3\" class=\"data row3 col3\" >0.000000</td>\n",
       "      <td id=\"T_d777a_row3_col4\" class=\"data row3 col4\" >0.000000</td>\n",
       "      <td id=\"T_d777a_row3_col5\" class=\"data row3 col5\" >0.000000</td>\n",
       "      <td id=\"T_d777a_row3_col6\" class=\"data row3 col6\" >0.078000</td>\n",
       "      <td id=\"T_d777a_row3_col7\" class=\"data row3 col7\" >21.000000</td>\n",
       "      <td id=\"T_d777a_row3_col8\" class=\"data row3 col8\" >0.000000</td>\n",
       "    </tr>\n",
       "    <tr>\n",
       "      <th id=\"T_d777a_level0_row4\" class=\"row_heading level0 row4\" >25%</th>\n",
       "      <td id=\"T_d777a_row4_col0\" class=\"data row4 col0\" >1.000000</td>\n",
       "      <td id=\"T_d777a_row4_col1\" class=\"data row4 col1\" >99.000000</td>\n",
       "      <td id=\"T_d777a_row4_col2\" class=\"data row4 col2\" >62.000000</td>\n",
       "      <td id=\"T_d777a_row4_col3\" class=\"data row4 col3\" >0.000000</td>\n",
       "      <td id=\"T_d777a_row4_col4\" class=\"data row4 col4\" >0.000000</td>\n",
       "      <td id=\"T_d777a_row4_col5\" class=\"data row4 col5\" >27.300000</td>\n",
       "      <td id=\"T_d777a_row4_col6\" class=\"data row4 col6\" >0.243750</td>\n",
       "      <td id=\"T_d777a_row4_col7\" class=\"data row4 col7\" >24.000000</td>\n",
       "      <td id=\"T_d777a_row4_col8\" class=\"data row4 col8\" >0.000000</td>\n",
       "    </tr>\n",
       "    <tr>\n",
       "      <th id=\"T_d777a_level0_row5\" class=\"row_heading level0 row5\" >50%</th>\n",
       "      <td id=\"T_d777a_row5_col0\" class=\"data row5 col0\" >3.000000</td>\n",
       "      <td id=\"T_d777a_row5_col1\" class=\"data row5 col1\" >117.000000</td>\n",
       "      <td id=\"T_d777a_row5_col2\" class=\"data row5 col2\" >72.000000</td>\n",
       "      <td id=\"T_d777a_row5_col3\" class=\"data row5 col3\" >23.000000</td>\n",
       "      <td id=\"T_d777a_row5_col4\" class=\"data row5 col4\" >30.500000</td>\n",
       "      <td id=\"T_d777a_row5_col5\" class=\"data row5 col5\" >32.000000</td>\n",
       "      <td id=\"T_d777a_row5_col6\" class=\"data row5 col6\" >0.372500</td>\n",
       "      <td id=\"T_d777a_row5_col7\" class=\"data row5 col7\" >29.000000</td>\n",
       "      <td id=\"T_d777a_row5_col8\" class=\"data row5 col8\" >0.000000</td>\n",
       "    </tr>\n",
       "    <tr>\n",
       "      <th id=\"T_d777a_level0_row6\" class=\"row_heading level0 row6\" >75%</th>\n",
       "      <td id=\"T_d777a_row6_col0\" class=\"data row6 col0\" >6.000000</td>\n",
       "      <td id=\"T_d777a_row6_col1\" class=\"data row6 col1\" >140.250000</td>\n",
       "      <td id=\"T_d777a_row6_col2\" class=\"data row6 col2\" >80.000000</td>\n",
       "      <td id=\"T_d777a_row6_col3\" class=\"data row6 col3\" >32.000000</td>\n",
       "      <td id=\"T_d777a_row6_col4\" class=\"data row6 col4\" >127.250000</td>\n",
       "      <td id=\"T_d777a_row6_col5\" class=\"data row6 col5\" >36.600000</td>\n",
       "      <td id=\"T_d777a_row6_col6\" class=\"data row6 col6\" >0.626250</td>\n",
       "      <td id=\"T_d777a_row6_col7\" class=\"data row6 col7\" >41.000000</td>\n",
       "      <td id=\"T_d777a_row6_col8\" class=\"data row6 col8\" >1.000000</td>\n",
       "    </tr>\n",
       "    <tr>\n",
       "      <th id=\"T_d777a_level0_row7\" class=\"row_heading level0 row7\" >max</th>\n",
       "      <td id=\"T_d777a_row7_col0\" class=\"data row7 col0\" >17.000000</td>\n",
       "      <td id=\"T_d777a_row7_col1\" class=\"data row7 col1\" >199.000000</td>\n",
       "      <td id=\"T_d777a_row7_col2\" class=\"data row7 col2\" >122.000000</td>\n",
       "      <td id=\"T_d777a_row7_col3\" class=\"data row7 col3\" >99.000000</td>\n",
       "      <td id=\"T_d777a_row7_col4\" class=\"data row7 col4\" >846.000000</td>\n",
       "      <td id=\"T_d777a_row7_col5\" class=\"data row7 col5\" >67.100000</td>\n",
       "      <td id=\"T_d777a_row7_col6\" class=\"data row7 col6\" >2.420000</td>\n",
       "      <td id=\"T_d777a_row7_col7\" class=\"data row7 col7\" >81.000000</td>\n",
       "      <td id=\"T_d777a_row7_col8\" class=\"data row7 col8\" >1.000000</td>\n",
       "    </tr>\n",
       "  </tbody>\n",
       "</table>\n"
      ],
      "text/plain": [
       "<pandas.io.formats.style.Styler at 0x1b3b7251e50>"
      ]
     },
     "execution_count": 6,
     "metadata": {},
     "output_type": "execute_result"
    }
   ],
   "source": [
    "# getting the statistical measures of the data\n",
    "diabetes_dataset.describe().style.background_gradient(cmap='RdYlBu')"
   ]
  },
  {
   "cell_type": "code",
   "execution_count": 7,
   "id": "0ebe8427",
   "metadata": {},
   "outputs": [
    {
     "data": {
      "text/plain": [
       "0    500\n",
       "1    268\n",
       "Name: Outcome, dtype: int64"
      ]
     },
     "execution_count": 7,
     "metadata": {},
     "output_type": "execute_result"
    }
   ],
   "source": [
    "diabetes_dataset['Outcome'].value_counts()"
   ]
  },
  {
   "cell_type": "markdown",
   "id": "300a1c19",
   "metadata": {},
   "source": [
    "0 --> Non-Diabetic\n",
    "\n",
    "1 --> Diabetic"
   ]
  },
  {
   "cell_type": "code",
   "execution_count": 8,
   "id": "7afea171",
   "metadata": {},
   "outputs": [
    {
     "data": {
      "text/html": [
       "<div>\n",
       "<style scoped>\n",
       "    .dataframe tbody tr th:only-of-type {\n",
       "        vertical-align: middle;\n",
       "    }\n",
       "\n",
       "    .dataframe tbody tr th {\n",
       "        vertical-align: top;\n",
       "    }\n",
       "\n",
       "    .dataframe thead th {\n",
       "        text-align: right;\n",
       "    }\n",
       "</style>\n",
       "<table border=\"1\" class=\"dataframe\">\n",
       "  <thead>\n",
       "    <tr style=\"text-align: right;\">\n",
       "      <th></th>\n",
       "      <th>Pregnancies</th>\n",
       "      <th>Glucose</th>\n",
       "      <th>BloodPressure</th>\n",
       "      <th>SkinThickness</th>\n",
       "      <th>Insulin</th>\n",
       "      <th>BMI</th>\n",
       "      <th>DiabetesPedigreeFunction</th>\n",
       "      <th>Age</th>\n",
       "    </tr>\n",
       "    <tr>\n",
       "      <th>Outcome</th>\n",
       "      <th></th>\n",
       "      <th></th>\n",
       "      <th></th>\n",
       "      <th></th>\n",
       "      <th></th>\n",
       "      <th></th>\n",
       "      <th></th>\n",
       "      <th></th>\n",
       "    </tr>\n",
       "  </thead>\n",
       "  <tbody>\n",
       "    <tr>\n",
       "      <th>0</th>\n",
       "      <td>3.298000</td>\n",
       "      <td>109.980000</td>\n",
       "      <td>68.184000</td>\n",
       "      <td>19.664000</td>\n",
       "      <td>68.792000</td>\n",
       "      <td>30.304200</td>\n",
       "      <td>0.429734</td>\n",
       "      <td>31.190000</td>\n",
       "    </tr>\n",
       "    <tr>\n",
       "      <th>1</th>\n",
       "      <td>4.865672</td>\n",
       "      <td>141.257463</td>\n",
       "      <td>70.824627</td>\n",
       "      <td>22.164179</td>\n",
       "      <td>100.335821</td>\n",
       "      <td>35.142537</td>\n",
       "      <td>0.550500</td>\n",
       "      <td>37.067164</td>\n",
       "    </tr>\n",
       "  </tbody>\n",
       "</table>\n",
       "</div>"
      ],
      "text/plain": [
       "         Pregnancies     Glucose  BloodPressure  SkinThickness     Insulin  \\\n",
       "Outcome                                                                      \n",
       "0           3.298000  109.980000      68.184000      19.664000   68.792000   \n",
       "1           4.865672  141.257463      70.824627      22.164179  100.335821   \n",
       "\n",
       "               BMI  DiabetesPedigreeFunction        Age  \n",
       "Outcome                                                  \n",
       "0        30.304200                  0.429734  31.190000  \n",
       "1        35.142537                  0.550500  37.067164  "
      ]
     },
     "execution_count": 8,
     "metadata": {},
     "output_type": "execute_result"
    }
   ],
   "source": [
    "diabetes_dataset.groupby('Outcome').mean()"
   ]
  },
  {
   "cell_type": "code",
   "execution_count": 9,
   "id": "d6322607",
   "metadata": {},
   "outputs": [],
   "source": [
    "# separating the data and labels\n",
    "X = diabetes_dataset.drop(columns = 'Outcome', axis=1)\n",
    "Y = diabetes_dataset['Outcome']"
   ]
  },
  {
   "cell_type": "code",
   "execution_count": 10,
   "id": "fb421fdc",
   "metadata": {},
   "outputs": [
    {
     "name": "stdout",
     "output_type": "stream",
     "text": [
      "     Pregnancies  Glucose  BloodPressure  SkinThickness  Insulin   BMI  \\\n",
      "0              6      148             72             35        0  33.6   \n",
      "1              1       85             66             29        0  26.6   \n",
      "2              8      183             64              0        0  23.3   \n",
      "3              1       89             66             23       94  28.1   \n",
      "4              0      137             40             35      168  43.1   \n",
      "..           ...      ...            ...            ...      ...   ...   \n",
      "763           10      101             76             48      180  32.9   \n",
      "764            2      122             70             27        0  36.8   \n",
      "765            5      121             72             23      112  26.2   \n",
      "766            1      126             60              0        0  30.1   \n",
      "767            1       93             70             31        0  30.4   \n",
      "\n",
      "     DiabetesPedigreeFunction  Age  \n",
      "0                       0.627   50  \n",
      "1                       0.351   31  \n",
      "2                       0.672   32  \n",
      "3                       0.167   21  \n",
      "4                       2.288   33  \n",
      "..                        ...  ...  \n",
      "763                     0.171   63  \n",
      "764                     0.340   27  \n",
      "765                     0.245   30  \n",
      "766                     0.349   47  \n",
      "767                     0.315   23  \n",
      "\n",
      "[768 rows x 8 columns]\n"
     ]
    }
   ],
   "source": [
    "print(X)"
   ]
  },
  {
   "cell_type": "code",
   "execution_count": 11,
   "id": "18bf9f4c",
   "metadata": {},
   "outputs": [
    {
     "name": "stdout",
     "output_type": "stream",
     "text": [
      "0      1\n",
      "1      0\n",
      "2      1\n",
      "3      0\n",
      "4      1\n",
      "      ..\n",
      "763    0\n",
      "764    0\n",
      "765    0\n",
      "766    1\n",
      "767    0\n",
      "Name: Outcome, Length: 768, dtype: int64\n"
     ]
    }
   ],
   "source": [
    "print(Y)"
   ]
  },
  {
   "cell_type": "markdown",
   "id": "72e26816",
   "metadata": {},
   "source": [
    "# Step 2: Data Preperation \n",
    "Data Standardization"
   ]
  },
  {
   "cell_type": "code",
   "execution_count": 12,
   "id": "a942860e",
   "metadata": {},
   "outputs": [],
   "source": [
    "scaler = StandardScaler()"
   ]
  },
  {
   "cell_type": "code",
   "execution_count": 13,
   "id": "45372727",
   "metadata": {},
   "outputs": [
    {
     "data": {
      "text/plain": [
       "StandardScaler()"
      ]
     },
     "execution_count": 13,
     "metadata": {},
     "output_type": "execute_result"
    }
   ],
   "source": [
    "scaler.fit(X)"
   ]
  },
  {
   "cell_type": "code",
   "execution_count": 14,
   "id": "9387db71",
   "metadata": {},
   "outputs": [],
   "source": [
    "standardized_data = scaler.transform(X)"
   ]
  },
  {
   "cell_type": "code",
   "execution_count": 15,
   "id": "3ca88d41",
   "metadata": {},
   "outputs": [
    {
     "name": "stdout",
     "output_type": "stream",
     "text": [
      "[[ 0.63994726  0.84832379  0.14964075 ...  0.20401277  0.46849198\n",
      "   1.4259954 ]\n",
      " [-0.84488505 -1.12339636 -0.16054575 ... -0.68442195 -0.36506078\n",
      "  -0.19067191]\n",
      " [ 1.23388019  1.94372388 -0.26394125 ... -1.10325546  0.60439732\n",
      "  -0.10558415]\n",
      " ...\n",
      " [ 0.3429808   0.00330087  0.14964075 ... -0.73518964 -0.68519336\n",
      "  -0.27575966]\n",
      " [-0.84488505  0.1597866  -0.47073225 ... -0.24020459 -0.37110101\n",
      "   1.17073215]\n",
      " [-0.84488505 -0.8730192   0.04624525 ... -0.20212881 -0.47378505\n",
      "  -0.87137393]]\n"
     ]
    }
   ],
   "source": [
    "print(standardized_data)"
   ]
  },
  {
   "cell_type": "code",
   "execution_count": 16,
   "id": "1e9a391d",
   "metadata": {},
   "outputs": [],
   "source": [
    "X = standardized_data\n",
    "Y = diabetes_dataset['Outcome']"
   ]
  },
  {
   "cell_type": "code",
   "execution_count": 17,
   "id": "dcde8370",
   "metadata": {},
   "outputs": [
    {
     "name": "stdout",
     "output_type": "stream",
     "text": [
      "[[ 0.63994726  0.84832379  0.14964075 ...  0.20401277  0.46849198\n",
      "   1.4259954 ]\n",
      " [-0.84488505 -1.12339636 -0.16054575 ... -0.68442195 -0.36506078\n",
      "  -0.19067191]\n",
      " [ 1.23388019  1.94372388 -0.26394125 ... -1.10325546  0.60439732\n",
      "  -0.10558415]\n",
      " ...\n",
      " [ 0.3429808   0.00330087  0.14964075 ... -0.73518964 -0.68519336\n",
      "  -0.27575966]\n",
      " [-0.84488505  0.1597866  -0.47073225 ... -0.24020459 -0.37110101\n",
      "   1.17073215]\n",
      " [-0.84488505 -0.8730192   0.04624525 ... -0.20212881 -0.47378505\n",
      "  -0.87137393]]\n"
     ]
    }
   ],
   "source": [
    "print(X)"
   ]
  },
  {
   "cell_type": "code",
   "execution_count": 18,
   "id": "165f86b3",
   "metadata": {},
   "outputs": [
    {
     "name": "stdout",
     "output_type": "stream",
     "text": [
      "0      1\n",
      "1      0\n",
      "2      1\n",
      "3      0\n",
      "4      1\n",
      "      ..\n",
      "763    0\n",
      "764    0\n",
      "765    0\n",
      "766    1\n",
      "767    0\n",
      "Name: Outcome, Length: 768, dtype: int64\n"
     ]
    }
   ],
   "source": [
    "print(Y)"
   ]
  },
  {
   "cell_type": "markdown",
   "id": "12e8f644",
   "metadata": {},
   "source": [
    "# VISUALISATIONS ON DIABETES DATASET"
   ]
  },
  {
   "cell_type": "code",
   "execution_count": null,
   "id": "1b7117ae",
   "metadata": {},
   "outputs": [],
   "source": []
  },
  {
   "cell_type": "code",
   "execution_count": null,
   "id": "1a0209a5",
   "metadata": {},
   "outputs": [],
   "source": []
  },
  {
   "cell_type": "code",
   "execution_count": null,
   "id": "555a8928",
   "metadata": {},
   "outputs": [],
   "source": []
  },
  {
   "cell_type": "code",
   "execution_count": null,
   "id": "761bedf9",
   "metadata": {},
   "outputs": [],
   "source": []
  },
  {
   "cell_type": "code",
   "execution_count": 38,
   "id": "c1f0defc",
   "metadata": {},
   "outputs": [
    {
     "name": "stderr",
     "output_type": "stream",
     "text": [
      "C:\\Users\\User\\anaconda3\\lib\\site-packages\\sklearn\\linear_model\\_logistic.py:814: ConvergenceWarning: lbfgs failed to converge (status=1):\n",
      "STOP: TOTAL NO. of ITERATIONS REACHED LIMIT.\n",
      "\n",
      "Increase the number of iterations (max_iter) or scale the data as shown in:\n",
      "    https://scikit-learn.org/stable/modules/preprocessing.html\n",
      "Please also refer to the documentation for alternative solver options:\n",
      "    https://scikit-learn.org/stable/modules/linear_model.html#logistic-regression\n",
      "  n_iter_i = _check_optimize_result(\n",
      "C:\\Users\\User\\anaconda3\\lib\\site-packages\\sklearn\\linear_model\\_logistic.py:814: ConvergenceWarning: lbfgs failed to converge (status=1):\n",
      "STOP: TOTAL NO. of ITERATIONS REACHED LIMIT.\n",
      "\n",
      "Increase the number of iterations (max_iter) or scale the data as shown in:\n",
      "    https://scikit-learn.org/stable/modules/preprocessing.html\n",
      "Please also refer to the documentation for alternative solver options:\n",
      "    https://scikit-learn.org/stable/modules/linear_model.html#logistic-regression\n",
      "  n_iter_i = _check_optimize_result(\n",
      "C:\\Users\\User\\anaconda3\\lib\\site-packages\\sklearn\\linear_model\\_logistic.py:814: ConvergenceWarning: lbfgs failed to converge (status=1):\n",
      "STOP: TOTAL NO. of ITERATIONS REACHED LIMIT.\n",
      "\n",
      "Increase the number of iterations (max_iter) or scale the data as shown in:\n",
      "    https://scikit-learn.org/stable/modules/preprocessing.html\n",
      "Please also refer to the documentation for alternative solver options:\n",
      "    https://scikit-learn.org/stable/modules/linear_model.html#logistic-regression\n",
      "  n_iter_i = _check_optimize_result(\n"
     ]
    },
    {
     "name": "stdout",
     "output_type": "stream",
     "text": [
      "Accuracy: 76.957% (2.529%)\n"
     ]
    },
    {
     "name": "stderr",
     "output_type": "stream",
     "text": [
      "C:\\Users\\User\\anaconda3\\lib\\site-packages\\sklearn\\linear_model\\_logistic.py:814: ConvergenceWarning: lbfgs failed to converge (status=1):\n",
      "STOP: TOTAL NO. of ITERATIONS REACHED LIMIT.\n",
      "\n",
      "Increase the number of iterations (max_iter) or scale the data as shown in:\n",
      "    https://scikit-learn.org/stable/modules/preprocessing.html\n",
      "Please also refer to the documentation for alternative solver options:\n",
      "    https://scikit-learn.org/stable/modules/linear_model.html#logistic-regression\n",
      "  n_iter_i = _check_optimize_result(\n",
      "C:\\Users\\User\\anaconda3\\lib\\site-packages\\sklearn\\linear_model\\_logistic.py:814: ConvergenceWarning: lbfgs failed to converge (status=1):\n",
      "STOP: TOTAL NO. of ITERATIONS REACHED LIMIT.\n",
      "\n",
      "Increase the number of iterations (max_iter) or scale the data as shown in:\n",
      "    https://scikit-learn.org/stable/modules/preprocessing.html\n",
      "Please also refer to the documentation for alternative solver options:\n",
      "    https://scikit-learn.org/stable/modules/linear_model.html#logistic-regression\n",
      "  n_iter_i = _check_optimize_result(\n"
     ]
    }
   ],
   "source": []
  },
  {
   "cell_type": "code",
   "execution_count": 34,
   "id": "ba30dc23",
   "metadata": {},
   "outputs": [
    {
     "data": {
      "image/png": "[encoded data removed]",
      "text/plain": [
       "<Figure size 432x288 with 9 Axes>"
      ]
     },
     "metadata": {
      "needs_background": "light"
     },
     "output_type": "display_data"
    }
   ],
   "source": [
    "diabetes_dataset.plot(kind='density', subplots=True, layout=(3,3), sharex=False)\n",
    "pyplot.show()"
   ]
  },
  {
   "cell_type": "markdown",
   "id": "f5c9b2ce",
   "metadata": {},
   "source": [
    "# Train Test Split"
   ]
  },
  {
   "cell_type": "code",
   "execution_count": null,
   "id": "03d325c1",
   "metadata": {},
   "outputs": [],
   "source": [
    "diabetes_dataset.isna().sum()"
   ]
  },
  {
   "cell_type": "code",
   "execution_count": null,
   "id": "57e8e00f",
   "metadata": {},
   "outputs": [],
   "source": [
    "diabetes_dataset.loc[diabetes_dataset.duplicated()]"
   ]
  },
  {
   "cell_type": "code",
   "execution_count": null,
   "id": "76911cad",
   "metadata": {},
   "outputs": [],
   "source": [
    "X_train, X_test, Y_train, Y_test = train_test_split(X,Y, test_size = 0.2, stratify=Y, random_state=2) \n",
    "                                                         #stratify specifies to observe same propotion\n",
    "       #random state ensures that the same split is obtained every time you run the code with this parameter value"
   ]
  },
  {
   "cell_type": "code",
   "execution_count": null,
   "id": "8ec30609",
   "metadata": {},
   "outputs": [],
   "source": [
    "print(X.shape, X_train.shape, X_test.shape)"
   ]
  },
  {
   "cell_type": "markdown",
   "id": "7fae31ff",
   "metadata": {},
   "source": [
    "# Training the Model"
   ]
  },
  {
   "cell_type": "code",
   "execution_count": null,
   "id": "1617b70f",
   "metadata": {},
   "outputs": [],
   "source": [
    "classifier = svm.SVC(kernel='linear')"
   ]
  },
  {
   "cell_type": "code",
   "execution_count": null,
   "id": "bfb6a20b",
   "metadata": {},
   "outputs": [],
   "source": [
    "#training the support vector Machine Classifier\n",
    "classifier.fit(X_train, Y_train)"
   ]
  },
  {
   "cell_type": "markdown",
   "id": "421d45ea",
   "metadata": {},
   "source": [
    "# Model Evaluation\n",
    "Accuracy Score"
   ]
  },
  {
   "cell_type": "code",
   "execution_count": null,
   "id": "5747c991",
   "metadata": {},
   "outputs": [],
   "source": [
    "# accuracy score on the training data\n",
    "X_train_prediction = classifier.predict(X_train)\n",
    "training_data_accuracy = accuracy_score(X_train_prediction, Y_train)"
   ]
  },
  {
   "cell_type": "code",
   "execution_count": null,
   "id": "69a51cf1",
   "metadata": {},
   "outputs": [],
   "source": [
    "print('Accuracy score of the training data : ', training_data_accuracy)"
   ]
  },
  {
   "cell_type": "code",
   "execution_count": null,
   "id": "c6c36aa4",
   "metadata": {},
   "outputs": [],
   "source": [
    "# accuracy score on the test data\n",
    "X_test_prediction = classifier.predict(X_test)\n",
    "test_data_accuracy = accuracy_score(X_test_prediction, Y_test)"
   ]
  },
  {
   "cell_type": "code",
   "execution_count": null,
   "id": "b4be5398",
   "metadata": {},
   "outputs": [],
   "source": [
    "print('Accuracy score of the test data : ', test_data_accuracy)"
   ]
  },
  {
   "cell_type": "code",
   "execution_count": null,
   "id": "54620431",
   "metadata": {},
   "outputs": [],
   "source": []
  },
  {
   "cell_type": "code",
   "execution_count": null,
   "id": "2946a4e5",
   "metadata": {},
   "outputs": [],
   "source": [
    "# Evaluation of the model using Cross-Validation\n",
    "from pandas import read_csv\n",
    "from sklearn.model_selection import KFold\n",
    "from sklearn.model_selection import cross_val_score\n",
    "from sklearn.linear_model import LogisticRegression\n",
    "array = diabetes_dataset.values\n",
    "X = array[:,0:8]\n",
    "Y = array[:,8]\n",
    "#kfold = KFold(n_splits=10, random_state=7)\n",
    "model = LogisticRegression()\n",
    "results = cross_val_score(model, X, Y)#, cv=kfold)\n",
    "print(\"Accuracy: %.3f%% (%.3f%%)\" % (results.mean()*100.0, results.std()*100.0))"
   ]
  },
  {
   "cell_type": "markdown",
   "id": "d7bf2022",
   "metadata": {},
   "source": [
    "# Step 5: Ask a Question about the data\n",
    "               Making a Predictive System"
   ]
  },
  {
   "cell_type": "code",
   "execution_count": null,
   "id": "01ccf8f3",
   "metadata": {},
   "outputs": [],
   "source": [
    "input_data = (2,197,70,45,543,30.5,0.158,53)\n",
    "\n",
    "# changing the input_data to numpy array\n",
    "input_data_as_numpy_array = np.asarray(input_data)\n",
    "\n",
    "# reshape the array as we are predicting for one instance\n",
    "input_data_reshaped = input_data_as_numpy_array.reshape(1,-1)\n",
    "\n",
    "# standardize the input data\n",
    "std_data = scaler.transform(input_data_reshaped)\n",
    "print(std_data)\n",
    "\n",
    "prediction = classifier.predict(std_data)\n",
    "print(prediction)\n",
    "\n",
    "if (prediction[0] == 0):\n",
    "  print('The person is not diabetic')\n",
    "else:\n",
    "  print('The person is diabetic')"
   ]
  },
  {
   "cell_type": "code",
   "execution_count": null,
   "id": "49e3231b",
   "metadata": {},
   "outputs": [],
   "source": [
    "\n",
    "# List of input data points\n",
    "input_data_list = [(1,85,66,29,0,26.6,0.351,31),(5, 166, 72, 19, 175, 25.8, 0.587, 34), (2,197,70,45,543,30.5,0.158,53) ]\n",
    "\n",
    "for input in input_data_list:\n",
    "    # Convert the input_data to a numpy array and reshape it for prediction\n",
    "    input_as_numpy_array = np.asarray(input).reshape(1, -1)\n",
    "\n",
    "    # Standardize the input data\n",
    "    standardized_data = scaler.transform(input_as_numpy_array)\n",
    "\n",
    "    # Make a prediction\n",
    "    prediction = classifier.predict(standardized_data)\n",
    "\n",
    "    # Print the standardized data and prediction\n",
    "    print(\"Standardized Data:\", standardized_data)\n",
    "    print(\"Prediction:\", prediction)\n",
    "\n",
    "    # Interpret the prediction\n",
    "    if prediction[0] == 0:\n",
    "        print('The person is not diabetic')\n",
    "    else:\n",
    "        print('The person is diabetic')\n",
    "\n"
   ]
  },
  {
   "cell_type": "markdown",
   "id": "0dbc1838",
   "metadata": {},
   "source": [
    "GOD BLESS ASSA ! BEST WISHES IN THIS DATA DRIVEN WORLD"
   ]
  },
  {
   "cell_type": "markdown",
   "id": "32d2ab02",
   "metadata": {},
   "source": [
    "THANK YOU!."
   ]
  }
 ],
 "metadata": {
  "kernelspec": {
   "display_name": "Python 3 (ipykernel)",
   "language": "python",
   "name": "python3"
  },
  "language_info": {
   "codemirror_mode": {
    "name": "ipython",
    "version": 3
   },
   "file_extension": ".py",
   "mimetype": "text/x-python",
   "name": "python",
   "nbconvert_exporter": "python",
   "pygments_lexer": "ipython3",
   "version": "3.9.12"
  }
 },
 "nbformat": 4,
 "nbformat_minor": 5
}
